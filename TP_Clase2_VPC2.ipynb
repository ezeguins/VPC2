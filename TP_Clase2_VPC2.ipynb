{
 "cells": [
  {
   "cell_type": "markdown",
   "metadata": {
    "id": "AZD6xL8uQQu-"
   },
   "source": [
    "## Ejercicio Práctico - Clase 2 VPC2 - 4co2021\n",
    "\n",
    "Generar una red TP2olucional con las siguientes caracteristicas:\n",
    "\n",
    "*   Conv1: cantidad de filtros=16, tramaño de filtro=3, stride=1, padding=\"same\"\n",
    "*   Pool1: MaxPooling, tamaño de filtro=2, stride=2\n",
    "*   Conv2: cantidad de filtros=32, tramaño de filtro=3, stride=1, padding=\"same\"\n",
    "*   Pool2: MaxPooling, tamaño de filtro=2, stride=2\n",
    "*   Conv3: cantidad de filtros=64, tramaño de filtro=3, stride=1, padding=\"same\"\n",
    "*   Pool3: MaxPooling, tamaño de filtro=2, stride=2\n",
    "*   Conv4: cantidad de filtros=128, tramaño de filtro=3, stride=1, padding=\"same\"\n",
    "*   Linear1: cantidad de neuronas=100\n",
    "*   Linear2: capa de salida\n",
    "\n",
    "Elegir la función de activación que crean mas conveniente.\n",
    "\n",
    "Ejercicios:\n",
    "\n",
    "1.   Utilizando el dataset CIFAR10, provisto por PyTorch, entrenar la red sin aplicar data augmentation durante, al menos, 20 epocas. Se produce sobreentrenamiento?\n",
    "\n",
    "#### RESPUESTA: Vemos en el gráfico que no se produce sobre-entrenamiento porque el error de validación sigue, en la curva, pegado al error de entrenamiento.\n",
    "\n",
    "2.   Utilizando el mismo dataset y aplicando las tecnicas de data augmentation que considere necesarias, entrenar nuevamente la red durante, al menos, 20 epocas sin que se produzca sobreentrenamiento hasta alcanzar un accuracy de 80% aproximadamente.\n",
    "3.   A partir de los resultados obtenidos en los puntos anteriores: ¿Por qué cree que en el segundo caso el ritmo de mejora de la red es mas lento que en el primero?\n",
    "\n",
    "#### RESPUESTA: En el segundo caso vemos que la convergencia es mas lenta debido a que se entrena con mini-batches compuestos de imagenes transformadas, las cuales estan mas correlacionadas entre sí. En este caso el aprendizaje del modelo se produce de manera mas lenta época a época pero permite hacer un número mayor de iteraciones debido a tener un dataset mas grande."
   ]
  },
  {
   "cell_type": "code",
   "execution_count": 1,
   "metadata": {
    "id": "Sbsx61hsQRls"
   },
   "outputs": [
    {
     "ename": "ModuleNotFoundError",
     "evalue": "No module named 'tensorflow'",
     "output_type": "error",
     "traceback": [
      "\u001b[1;31m---------------------------------------------------------------------------\u001b[0m",
      "\u001b[1;31mModuleNotFoundError\u001b[0m                       Traceback (most recent call last)",
      "\u001b[1;32mC:\\Users\\AULAMU~1\\AppData\\Local\\Temp/ipykernel_16724/236654756.py\u001b[0m in \u001b[0;36m<module>\u001b[1;34m\u001b[0m\n\u001b[0;32m      3\u001b[0m \u001b[1;33m\u001b[0m\u001b[0m\n\u001b[0;32m      4\u001b[0m \u001b[1;32mimport\u001b[0m \u001b[0mtorch\u001b[0m\u001b[1;33m\u001b[0m\u001b[1;33m\u001b[0m\u001b[0m\n\u001b[1;32m----> 5\u001b[1;33m \u001b[1;32mimport\u001b[0m \u001b[0mtensorflow\u001b[0m \u001b[1;32mas\u001b[0m \u001b[0mtf\u001b[0m\u001b[1;33m\u001b[0m\u001b[1;33m\u001b[0m\u001b[0m\n\u001b[0m\u001b[0;32m      6\u001b[0m \u001b[1;32mimport\u001b[0m \u001b[0mtorch\u001b[0m\u001b[1;33m.\u001b[0m\u001b[0mnn\u001b[0m\u001b[1;33m.\u001b[0m\u001b[0mfunctional\u001b[0m \u001b[1;32mas\u001b[0m \u001b[0mF\u001b[0m\u001b[1;33m\u001b[0m\u001b[1;33m\u001b[0m\u001b[0m\n\u001b[0;32m      7\u001b[0m \u001b[1;32mimport\u001b[0m \u001b[0mtorchvision\u001b[0m\u001b[1;33m\u001b[0m\u001b[1;33m\u001b[0m\u001b[0m\n",
      "\u001b[1;31mModuleNotFoundError\u001b[0m: No module named 'tensorflow'"
     ]
    }
   ],
   "source": [
    "import numpy as np\n",
    "import matplotlib.pyplot as plt\n",
    "\n",
    "import torch\n",
    "import tensorflow as tf\n",
    "import torch.nn.functional as F\n",
    "import torchvision\n",
    "import torchsummary\n",
    "from torch.utils.tensorboard import SummaryWriter\n",
    "writer = SummaryWriter()"
   ]
  },
  {
   "cell_type": "code",
   "execution_count": null,
   "metadata": {
    "colab": {
     "base_uri": "https://localhost:8080/"
    },
    "id": "91S__PHgQiIW",
    "outputId": "ea67188c-51ec-494e-b73e-93758e9ba026"
   },
   "outputs": [
    {
     "name": "stdout",
     "output_type": "stream",
     "text": [
      "Collecting torchmetrics\n",
      "  Downloading torchmetrics-0.8.2-py3-none-any.whl (409 kB)\n",
      "\u001b[?25l\r",
      "\u001b[K     |▉                               | 10 kB 33.2 MB/s eta 0:00:01\r",
      "\u001b[K     |█▋                              | 20 kB 40.4 MB/s eta 0:00:01\r",
      "\u001b[K     |██▍                             | 30 kB 43.4 MB/s eta 0:00:01\r",
      "\u001b[K     |███▏                            | 40 kB 28.7 MB/s eta 0:00:01\r",
      "\u001b[K     |████                            | 51 kB 31.0 MB/s eta 0:00:01\r",
      "\u001b[K     |████▉                           | 61 kB 34.4 MB/s eta 0:00:01\r",
      "\u001b[K     |█████▋                          | 71 kB 22.9 MB/s eta 0:00:01\r",
      "\u001b[K     |██████▍                         | 81 kB 23.8 MB/s eta 0:00:01\r",
      "\u001b[K     |███████▏                        | 92 kB 25.8 MB/s eta 0:00:01\r",
      "\u001b[K     |████████                        | 102 kB 27.5 MB/s eta 0:00:01\r",
      "\u001b[K     |████████▉                       | 112 kB 27.5 MB/s eta 0:00:01\r",
      "\u001b[K     |█████████▋                      | 122 kB 27.5 MB/s eta 0:00:01\r",
      "\u001b[K     |██████████▍                     | 133 kB 27.5 MB/s eta 0:00:01\r",
      "\u001b[K     |███████████▏                    | 143 kB 27.5 MB/s eta 0:00:01\r",
      "\u001b[K     |████████████                    | 153 kB 27.5 MB/s eta 0:00:01\r",
      "\u001b[K     |████████████▉                   | 163 kB 27.5 MB/s eta 0:00:01\r",
      "\u001b[K     |█████████████▋                  | 174 kB 27.5 MB/s eta 0:00:01\r",
      "\u001b[K     |██████████████▍                 | 184 kB 27.5 MB/s eta 0:00:01\r",
      "\u001b[K     |███████████████▏                | 194 kB 27.5 MB/s eta 0:00:01\r",
      "\u001b[K     |████████████████                | 204 kB 27.5 MB/s eta 0:00:01\r",
      "\u001b[K     |████████████████▉               | 215 kB 27.5 MB/s eta 0:00:01\r",
      "\u001b[K     |█████████████████▋              | 225 kB 27.5 MB/s eta 0:00:01\r",
      "\u001b[K     |██████████████████▍             | 235 kB 27.5 MB/s eta 0:00:01\r",
      "\u001b[K     |███████████████████▏            | 245 kB 27.5 MB/s eta 0:00:01\r",
      "\u001b[K     |████████████████████            | 256 kB 27.5 MB/s eta 0:00:01\r",
      "\u001b[K     |████████████████████▉           | 266 kB 27.5 MB/s eta 0:00:01\r",
      "\u001b[K     |█████████████████████▋          | 276 kB 27.5 MB/s eta 0:00:01\r",
      "\u001b[K     |██████████████████████▍         | 286 kB 27.5 MB/s eta 0:00:01\r",
      "\u001b[K     |███████████████████████▏        | 296 kB 27.5 MB/s eta 0:00:01\r",
      "\u001b[K     |████████████████████████        | 307 kB 27.5 MB/s eta 0:00:01\r",
      "\u001b[K     |████████████████████████▉       | 317 kB 27.5 MB/s eta 0:00:01\r",
      "\u001b[K     |█████████████████████████▋      | 327 kB 27.5 MB/s eta 0:00:01\r",
      "\u001b[K     |██████████████████████████▍     | 337 kB 27.5 MB/s eta 0:00:01\r",
      "\u001b[K     |███████████████████████████▏    | 348 kB 27.5 MB/s eta 0:00:01\r",
      "\u001b[K     |████████████████████████████    | 358 kB 27.5 MB/s eta 0:00:01\r",
      "\u001b[K     |████████████████████████████▉   | 368 kB 27.5 MB/s eta 0:00:01\r",
      "\u001b[K     |█████████████████████████████▋  | 378 kB 27.5 MB/s eta 0:00:01\r",
      "\u001b[K     |██████████████████████████████▍ | 389 kB 27.5 MB/s eta 0:00:01\r",
      "\u001b[K     |███████████████████████████████▏| 399 kB 27.5 MB/s eta 0:00:01\r",
      "\u001b[K     |████████████████████████████████| 409 kB 27.5 MB/s eta 0:00:01\r",
      "\u001b[K     |████████████████████████████████| 409 kB 27.5 MB/s \n",
      "\u001b[?25hCollecting pyDeprecate==0.3.*\n",
      "  Downloading pyDeprecate-0.3.2-py3-none-any.whl (10 kB)\n",
      "Requirement already satisfied: packaging in /usr/local/lib/python3.7/dist-packages (from torchmetrics) (21.3)\n",
      "Requirement already satisfied: torch>=1.3.1 in /usr/local/lib/python3.7/dist-packages (from torchmetrics) (1.11.0+cu113)\n",
      "Requirement already satisfied: numpy>=1.17.2 in /usr/local/lib/python3.7/dist-packages (from torchmetrics) (1.21.6)\n",
      "Requirement already satisfied: typing-extensions in /usr/local/lib/python3.7/dist-packages (from torch>=1.3.1->torchmetrics) (4.2.0)\n",
      "Requirement already satisfied: pyparsing!=3.0.5,>=2.0.2 in /usr/local/lib/python3.7/dist-packages (from packaging->torchmetrics) (3.0.8)\n",
      "Installing collected packages: pyDeprecate, torchmetrics\n",
      "Successfully installed pyDeprecate-0.3.2 torchmetrics-0.8.2\n"
     ]
    }
   ],
   "source": [
    "!pip install torchmetrics\n",
    "import torchmetrics"
   ]
  },
  {
   "cell_type": "code",
   "execution_count": null,
   "metadata": {
    "id": "kQXU-ASDQk59"
   },
   "outputs": [],
   "source": [
    "# Generamos la red neuronal\n",
    "class TP2(torch.nn.Module):\n",
    "    def __init__(self):\n",
    "        super().__init__()\n",
    "        self.conv1 = torch.nn.Conv2d(in_channels=3, out_channels=16, kernel_size=3, stride=1, padding='same')\n",
    "        self.pool1 = torch.nn.AvgPool2d(kernel_size=2, stride=2)\n",
    "        self.conv2 = torch.nn.Conv2d(in_channels=16, out_channels=32, kernel_size=3, stride=1, padding='same')\n",
    "        self.pool2 = torch.nn.AvgPool2d(kernel_size=2, stride=2)\n",
    "        self.conv3 = torch.nn.Conv2d(in_channels=32, out_channels=64, kernel_size=3, stride=1, padding='same')\n",
    "        self.pool3 = torch.nn.AvgPool2d(kernel_size=2, stride=2)\n",
    "        self.conv4 = torch.nn.Conv2d(in_channels=64, out_channels=128, kernel_size=3, stride=1, padding='same')\n",
    "        self.fc1 = torch.nn.Linear(in_features=2048, out_features=100)\n",
    "        self.fc2 = torch.nn.Linear(in_features=100, out_features=10)\n",
    "\n",
    "    def forward(self, x):\n",
    "        x = self.pool1(torch.relu(self.conv1(x)))\n",
    "        x = self.pool2(torch.relu(self.conv2(x)))\n",
    "        x = self.pool3(torch.relu(self.conv3(x)))\n",
    "        x = torch.relu(self.conv4(x))\n",
    "        x = torch.flatten(x, 1) # flatten all dimensions except batch\n",
    "        x = torch.relu(self.fc1(x))\n",
    "        x = self.fc2(x)\n",
    "        return x\n",
    "TP2_model = TP2()\n",
    "# Si hay una GPU disponible muevo el modelo allí para aprovechar ese recurso\n",
    "if torch.cuda.is_available():\n",
    "    TP2_model.to(\"cuda\")"
   ]
  },
  {
   "cell_type": "code",
   "execution_count": null,
   "metadata": {
    "colab": {
     "base_uri": "https://localhost:8080/"
    },
    "id": "wf-2LP0CQyjW",
    "outputId": "6bd5c621-b4a7-4cd1-fd29-e224ea583547"
   },
   "outputs": [
    {
     "name": "stdout",
     "output_type": "stream",
     "text": [
      "----------------------------------------------------------------\n",
      "        Layer (type)               Output Shape         Param #\n",
      "================================================================\n",
      "            Conv2d-1           [-1, 16, 32, 32]             448\n",
      "         AvgPool2d-2           [-1, 16, 16, 16]               0\n",
      "            Conv2d-3           [-1, 32, 16, 16]           4,640\n",
      "         AvgPool2d-4             [-1, 32, 8, 8]               0\n",
      "            Conv2d-5             [-1, 64, 8, 8]          18,496\n",
      "         AvgPool2d-6             [-1, 64, 4, 4]               0\n",
      "            Conv2d-7            [-1, 128, 4, 4]          73,856\n",
      "            Linear-8                  [-1, 100]         204,900\n",
      "            Linear-9                   [-1, 10]           1,010\n",
      "================================================================\n",
      "Total params: 303,350\n",
      "Trainable params: 303,350\n",
      "Non-trainable params: 0\n",
      "----------------------------------------------------------------\n",
      "Input size (MB): 0.01\n",
      "Forward/backward pass size (MB): 0.29\n",
      "Params size (MB): 1.16\n",
      "Estimated Total Size (MB): 1.46\n",
      "----------------------------------------------------------------\n"
     ]
    }
   ],
   "source": [
    "torchsummary.summary(TP2_model, input_size=(3, 32, 32))"
   ]
  },
  {
   "cell_type": "code",
   "execution_count": null,
   "metadata": {
    "id": "r4_pDqA5VG-y"
   },
   "outputs": [],
   "source": [
    "# definimos un optimizador, una función de error y una función de métrica.\n",
    "lr = 0.01\n",
    "TP2_model_optimizer = torch.optim.SGD(TP2_model.parameters(), lr=lr)\n",
    "TP2_model_loss = torch.nn.CrossEntropyLoss()\n",
    "TP2_model_accuracy = torchmetrics.Accuracy()"
   ]
  },
  {
   "cell_type": "code",
   "execution_count": null,
   "metadata": {
    "colab": {
     "base_uri": "https://localhost:8080/",
     "height": 136,
     "referenced_widgets": [
      "a2357a18210b439a8bfec56fd59879c1",
      "a89ef40036194bce9b5dbe9eb0a3695d",
      "208727af92474e3c89af6368083bf4d7",
      "3bd23fb3676942c69a0e79a9ceafc53c",
      "a9108fad79a74e33988d0cdfd91f7d2e",
      "231c47202496476f95ed59b549878e5c",
      "eef33200f5fd4f879d9d7312b9cf46a3",
      "80f140513318404ca596629db7dcaa19",
      "e562b06f53004454b5d807cc54782aa2",
      "b731321091084df48bee62748249c864",
      "2c5b94e32b6b477785ac15099410cd66"
     ]
    },
    "id": "vdoGfiu1eVqK",
    "outputId": "4b467e3d-6216-41ea-f7a3-930375d72886"
   },
   "outputs": [
    {
     "name": "stdout",
     "output_type": "stream",
     "text": [
      "Downloading https://www.cs.toronto.edu/~kriz/cifar-10-python.tar.gz to ./data/cifar-10-python.tar.gz\n"
     ]
    },
    {
     "data": {
      "application/vnd.jupyter.widget-view+json": {
       "model_id": "a2357a18210b439a8bfec56fd59879c1",
       "version_major": 2,
       "version_minor": 0
      },
      "text/plain": [
       "  0%|          | 0/170498071 [00:00<?, ?it/s]"
      ]
     },
     "metadata": {},
     "output_type": "display_data"
    },
    {
     "name": "stdout",
     "output_type": "stream",
     "text": [
      "Extracting ./data/cifar-10-python.tar.gz to ./data\n",
      "Files already downloaded and verified\n",
      "Tamaño del conjunto de entrenamiento: 40000\n",
      "Tamaño del conjunto de validación: 10000\n"
     ]
    }
   ],
   "source": [
    "# Una vez definido el modelo, cargo el dataset SIFAR10\n",
    "data_transforms = torchvision.transforms.Compose([torchvision.transforms.ToTensor()])\n",
    "#train, test = tf.keras.datasets.cifar10.load_data()\n",
    "train_set = torchvision.datasets.CIFAR10(root='./data', train=True, download=True, transform=data_transforms)\n",
    "test_set = torchvision.datasets.CIFAR10(root='./data', train=False, download=True, transform=data_transforms)\n",
    "\n",
    "# Creamos un conjunto de validación a partir del conjunto de entrenamiento\n",
    "valid_set_size = 10000\n",
    "train_set, valid_set = torch.utils.data.random_split(train_set, [len(train_set) - valid_set_size, valid_set_size])\n",
    "print(\"Tamaño del conjunto de entrenamiento: {}\".format(len(train_set)))\n",
    "print(\"Tamaño del conjunto de validación: {}\".format(len(valid_set)))\n"
   ]
  },
  {
   "cell_type": "code",
   "execution_count": null,
   "metadata": {
    "id": "00QxvXkOuOzW"
   },
   "outputs": [],
   "source": [
    "\n",
    "# Creamos el objeto dataloader para iterar sobre el dataset\n",
    "train_loader = torch.utils.data.DataLoader(train_set, batch_size=32, shuffle=True)\n",
    "valid_loader = torch.utils.data.DataLoader(valid_set, batch_size=len(valid_set), shuffle=True)\n",
    "test_loader = torch.utils.data.DataLoader(test_set, batch_size=len(test_set), shuffle=True)\n",
    "\n"
   ]
  },
  {
   "cell_type": "code",
   "execution_count": null,
   "metadata": {
    "colab": {
     "base_uri": "https://localhost:8080/"
    },
    "id": "yVanukN7xBau",
    "outputId": "4a697001-9621-4e64-d5d8-5522403b9168"
   },
   "outputs": [
    {
     "name": "stdout",
     "output_type": "stream",
     "text": [
      "Epoch: 1/20 - Train loss 2.302856 - Train Accuracy 0.101250 - Valid Loss 2.302112 - Valid Accuracy 0.096700\n",
      "Epoch: 2/20 - Train loss 2.301102 - Train Accuracy 0.125375 - Valid Loss 2.299381 - Valid Accuracy 0.178600\n",
      "Epoch: 3/20 - Train loss 2.277114 - Train Accuracy 0.155825 - Valid Loss 2.170654 - Valid Accuracy 0.219000\n",
      "Epoch: 4/20 - Train loss 2.040445 - Train Accuracy 0.253400 - Valid Loss 1.961819 - Valid Accuracy 0.284100\n",
      "Epoch: 5/20 - Train loss 1.919065 - Train Accuracy 0.305175 - Valid Loss 1.842033 - Valid Accuracy 0.339500\n",
      "Epoch: 6/20 - Train loss 1.796897 - Train Accuracy 0.357075 - Valid Loss 1.761788 - Valid Accuracy 0.367400\n",
      "Epoch: 7/20 - Train loss 1.705094 - Train Accuracy 0.392075 - Valid Loss 1.653263 - Valid Accuracy 0.405000\n",
      "Epoch: 8/20 - Train loss 1.632345 - Train Accuracy 0.413650 - Valid Loss 1.595519 - Valid Accuracy 0.424400\n",
      "Epoch: 9/20 - Train loss 1.578422 - Train Accuracy 0.432300 - Valid Loss 1.538806 - Valid Accuracy 0.439200\n",
      "Epoch: 10/20 - Train loss 1.530883 - Train Accuracy 0.448800 - Valid Loss 1.574025 - Valid Accuracy 0.435500\n",
      "Epoch: 11/20 - Train loss 1.486912 - Train Accuracy 0.469600 - Valid Loss 1.489524 - Valid Accuracy 0.469700\n",
      "Epoch: 12/20 - Train loss 1.452810 - Train Accuracy 0.480975 - Valid Loss 1.422409 - Valid Accuracy 0.491700\n",
      "Epoch: 13/20 - Train loss 1.415522 - Train Accuracy 0.494400 - Valid Loss 1.417933 - Valid Accuracy 0.495000\n",
      "Epoch: 14/20 - Train loss 1.382461 - Train Accuracy 0.508425 - Valid Loss 1.360547 - Valid Accuracy 0.513500\n",
      "Epoch: 15/20 - Train loss 1.351540 - Train Accuracy 0.520025 - Valid Loss 1.390568 - Valid Accuracy 0.500100\n",
      "Epoch: 16/20 - Train loss 1.324138 - Train Accuracy 0.529775 - Valid Loss 1.362545 - Valid Accuracy 0.512700\n",
      "Epoch: 17/20 - Train loss 1.291655 - Train Accuracy 0.541175 - Valid Loss 1.311165 - Valid Accuracy 0.528600\n",
      "Epoch: 18/20 - Train loss 1.264635 - Train Accuracy 0.547775 - Valid Loss 1.279498 - Valid Accuracy 0.545700\n",
      "Epoch: 19/20 - Train loss 1.236038 - Train Accuracy 0.561175 - Valid Loss 1.266614 - Valid Accuracy 0.545500\n",
      "Epoch: 20/20 - Train loss 1.207194 - Train Accuracy 0.571100 - Valid Loss 1.265856 - Valid Accuracy 0.556500\n"
     ]
    }
   ],
   "source": [
    "if torch.cuda.is_available():\n",
    "  TP2_model_accuracy.to(\"cuda\")\n",
    "\n",
    "# Epocas de entrenamiento\n",
    "epochs = 20\n",
    "\n",
    "# Defino listas para realizar graficas de los resultados\n",
    "train_loss = []\n",
    "train_acc = []\n",
    "valid_loss = []\n",
    "valid_acc = []\n",
    "\n",
    "## Defino mi loop de entrenamiento\n",
    "\n",
    "for epoch in range(epochs):\n",
    "\n",
    "  epoch_train_loss = 0.0\n",
    "  epoch_train_accuracy = 0.0\n",
    "\n",
    "  for train_data, train_target in train_loader:\n",
    "\n",
    "    # Al igual que con el modelo, los datos también se deben pasar a la GPU\n",
    "    if torch.cuda.is_available():\n",
    "      train_data = train_data.to(\"cuda\")\n",
    "      train_target = train_target.to(\"cuda\")\n",
    "\n",
    "    TP2_model_optimizer.zero_grad()\n",
    "    \n",
    "    output = TP2_model(train_data)\n",
    "    \n",
    "    loss = TP2_model_loss(output, train_target)\n",
    "    epoch_train_loss += loss.item()\n",
    "    loss.backward()\n",
    "    \n",
    "    TP2_model_optimizer.step()\n",
    "\n",
    "    accuracy = TP2_model_accuracy(output, train_target)\n",
    "    epoch_train_accuracy += accuracy.item()\n",
    "\n",
    "  # Calculo la media de error y accuracy para la epoca de entrenamiento.\n",
    "  # La longitud de train_loader es igual a la cantidad de batches dentro de una epoca.\n",
    "  epoch_train_loss = epoch_train_loss / len(train_loader)\n",
    "  epoch_train_accuracy = epoch_train_accuracy / len(train_loader)\n",
    "  train_loss.append(epoch_train_loss)\n",
    "  train_acc.append(epoch_train_accuracy)\n",
    "\n",
    "  # Realizo el paso de validación computando error y accuracy, y\n",
    "  # almacenando los valores para imprimirlos y graficarlos\n",
    "  epoch_valid_loss = 0.0\n",
    "  epoch_valid_accuracy = 0.0\n",
    "\n",
    "  for valid_data, valid_target in valid_loader:\n",
    "    if torch.cuda.is_available():\n",
    "      valid_data = valid_data.to(\"cuda\")\n",
    "      valid_target = valid_target.to(\"cuda\")\n",
    "\n",
    "    output = TP2_model(valid_data)\n",
    "    epoch_valid_loss += TP2_model_loss(output, valid_target).item()\n",
    "    epoch_valid_accuracy += TP2_model_accuracy(output, valid_target).item()\n",
    "      \n",
    "  epoch_valid_loss = epoch_valid_loss / len(valid_loader)\n",
    "  epoch_valid_accuracy = epoch_valid_accuracy / len(valid_loader)\n",
    "  valid_loss.append(epoch_valid_loss)\n",
    "  valid_acc.append(epoch_valid_accuracy)\n",
    "\n",
    "  print(\"Epoch: {}/{} - Train loss {:.6f} - Train Accuracy {:.6f} - Valid Loss {:.6f} - Valid Accuracy {:.6f}\".format(\n",
    "      epoch+1, epochs, epoch_train_loss, epoch_train_accuracy, epoch_valid_loss, epoch_valid_accuracy))"
   ]
  },
  {
   "cell_type": "code",
   "execution_count": null,
   "metadata": {
    "colab": {
     "base_uri": "https://localhost:8080/",
     "height": 896
    },
    "id": "A1uZ63_kzaU7",
    "outputId": "b5864d85-aa6d-4fbc-ec50-2762c3377696"
   },
   "outputs": [
    {
     "data": {
      "text/plain": [
       "<matplotlib.legend.Legend at 0x7fd11e6e44d0>"
      ]
     },
     "execution_count": 9,
     "metadata": {},
     "output_type": "execute_result"
    },
    {
     "data": {
      "image/png": "[encoded data removed]",
      "text/plain": [
       "<Figure size 1080x1080 with 2 Axes>"
      ]
     },
     "metadata": {
      "needs_background": "light"
     },
     "output_type": "display_data"
    }
   ],
   "source": [
    "# visualizamos los resultados:\n",
    "fig, axs = plt.subplots(2, 1, figsize=(15,15))\n",
    "axs[0].plot(train_loss)\n",
    "axs[0].plot(valid_loss) \n",
    "axs[0].title.set_text('Error de Entrenamiento vs Validación') \n",
    "axs[0].legend(['Train', 'Valid'])\n",
    "\n",
    "axs[1].plot(train_acc) \n",
    "axs[1].plot(valid_acc) \n",
    "axs[1].title.set_text('Accuracy de Entrenamiento vs Validación') \n",
    "axs[1].legend(['Train', 'Valid'])"
   ]
  },
  {
   "cell_type": "code",
   "execution_count": null,
   "metadata": {
    "colab": {
     "base_uri": "https://localhost:8080/"
    },
    "id": "LJVvbuhl11k9",
    "outputId": "befe7124-d157-4b0d-bab4-01ca7871f6c0"
   },
   "outputs": [
    {
     "name": "stdout",
     "output_type": "stream",
     "text": [
      "El modelo logro un error de 1.270882 y una accuracy de 0.555200\n"
     ]
    }
   ],
   "source": [
    "# Realizo el paso de evaluación computando error y accuracy\n",
    "test_loss = 0.0\n",
    "test_accuracy = 0.0\n",
    "\n",
    "for test_data, test_target in test_loader:\n",
    "  if torch.cuda.is_available():\n",
    "        test_data, test_target = test_data.cuda(), test_target.cuda()\n",
    "  output = TP2_model(test_data)\n",
    "  test_loss += TP2_model_loss(output, test_target).item()\n",
    "  test_accuracy += TP2_model_accuracy(output, test_target).item()\n",
    "\n",
    "test_loss = test_loss / len(test_loader)\n",
    "test_accuracy = test_accuracy / len(test_loader)\n",
    "\n",
    "print(\"El modelo logro un error de {:.6f} y una accuracy de {:.6f}\".format(test_loss, test_accuracy))"
   ]
  },
  {
   "cell_type": "code",
   "execution_count": null,
   "metadata": {
    "colab": {
     "base_uri": "https://localhost:8080/",
     "height": 423
    },
    "id": "dROa0ssC2CHo",
    "outputId": "d8cdfefe-aaa6-4c87-f168-1bba58ad92da"
   },
   "outputs": [
    {
     "name": "stdout",
     "output_type": "stream",
     "text": [
      "Files already downloaded and verified\n",
      "Tamaño del conjunto de entrenamiento: 40000\n",
      "Tamaño del conjunto de validación: 10000\n"
     ]
    },
    {
     "data": {
      "image/png": "[encoded data removed]",
      "text/plain": [
       "<Figure size 2304x2304 with 4 Axes>"
      ]
     },
     "metadata": {
      "needs_background": "light"
     },
     "output_type": "display_data"
    }
   ],
   "source": [
    "# Aplicamos Data Augmentation\n",
    "aud_data_transforms = torchvision.transforms.Compose([\n",
    "                        \n",
    "                        torchvision.transforms.RandomHorizontalFlip(0.5),\n",
    "                        torchvision.transforms.RandomResizedCrop(size=(32, 32), scale=(0.5, 1.0)),\n",
    "                        torchvision.transforms.ColorJitter(saturation=0.05, hue=0.05),\n",
    "                        torchvision.transforms.ToTensor(),\n",
    "                      ])\n",
    "\n",
    "aug_train_set = torchvision.datasets.CIFAR10(root='./data', train=True, download=True, transform=aud_data_transforms)\n",
    "\n",
    "# Creamos un conjunto de validación a partir del conjunto de entrenamiento\n",
    "valid_set_size = 10000\n",
    "aug_train_set, aug_valid_set = torch.utils.data.random_split(aug_train_set, [len(aug_train_set) - valid_set_size, valid_set_size])\n",
    "print(\"Tamaño del conjunto de entrenamiento: {}\".format(len(aug_train_set)))\n",
    "print(\"Tamaño del conjunto de validación: {}\".format(len(aug_valid_set)))\n",
    "\n",
    "aug_train_loader = torch.utils.data.DataLoader(aug_train_set, batch_size=32, shuffle=True)\n",
    "aug_valid_loader = torch.utils.data.DataLoader(aug_valid_set, batch_size=32, shuffle=True)\n",
    "\n",
    "# Visualizamos el resultado: \n",
    "fig, rows = plt.subplots(nrows=1, ncols=4, figsize=(32, 32))\n",
    "for id, row in enumerate(rows):\n",
    "    row.imshow(aug_train_set[id][0].permute(1, 2, 0))\n",
    "    row.axis('off')\n",
    "plt.show()"
   ]
  },
  {
   "cell_type": "code",
   "execution_count": null,
   "metadata": {
    "colab": {
     "base_uri": "https://localhost:8080/"
    },
    "id": "RXrcNaWI2XSS",
    "outputId": "a355b703-b7d1-47f0-acbd-e4947875bec5"
   },
   "outputs": [
    {
     "name": "stdout",
     "output_type": "stream",
     "text": [
      "Epoch: 1/150 - Train loss 2.302812 - Train Accuracy 0.105225 - Valid Loss 2.301960 - Valid Accuracy 0.095647\n",
      "Epoch: 2/150 - Train loss 2.299849 - Train Accuracy 0.133000 - Valid Loss 2.294884 - Valid Accuracy 0.154453\n",
      "Epoch: 3/150 - Train loss 2.194232 - Train Accuracy 0.184975 - Valid Loss 2.066966 - Valid Accuracy 0.230831\n",
      "Epoch: 4/150 - Train loss 2.034897 - Train Accuracy 0.243100 - Valid Loss 2.006264 - Valid Accuracy 0.252696\n",
      "Epoch: 5/150 - Train loss 1.974401 - Train Accuracy 0.271100 - Valid Loss 1.928294 - Valid Accuracy 0.295827\n",
      "Epoch: 6/150 - Train loss 1.906968 - Train Accuracy 0.310550 - Valid Loss 1.876269 - Valid Accuracy 0.324281\n",
      "Epoch: 7/150 - Train loss 1.843641 - Train Accuracy 0.335000 - Valid Loss 1.819749 - Valid Accuracy 0.348442\n",
      "Epoch: 8/150 - Train loss 1.786853 - Train Accuracy 0.356050 - Valid Loss 1.753298 - Valid Accuracy 0.365715\n",
      "Epoch: 9/150 - Train loss 1.736512 - Train Accuracy 0.368650 - Valid Loss 1.736455 - Valid Accuracy 0.373802\n",
      "Epoch: 10/150 - Train loss 1.693534 - Train Accuracy 0.384900 - Valid Loss 1.736589 - Valid Accuracy 0.386082\n",
      "Epoch: 11/150 - Train loss 1.662206 - Train Accuracy 0.402250 - Valid Loss 1.653376 - Valid Accuracy 0.409944\n",
      "Epoch: 12/150 - Train loss 1.630588 - Train Accuracy 0.411650 - Valid Loss 1.599086 - Valid Accuracy 0.426617\n",
      "Epoch: 13/150 - Train loss 1.610036 - Train Accuracy 0.419325 - Valid Loss 1.603839 - Valid Accuracy 0.427815\n",
      "Epoch: 14/150 - Train loss 1.582008 - Train Accuracy 0.429450 - Valid Loss 1.571519 - Valid Accuracy 0.438299\n",
      "Epoch: 15/150 - Train loss 1.561882 - Train Accuracy 0.437225 - Valid Loss 1.567900 - Valid Accuracy 0.443191\n",
      "Epoch: 16/150 - Train loss 1.540445 - Train Accuracy 0.446400 - Valid Loss 1.536930 - Valid Accuracy 0.450080\n",
      "Epoch: 17/150 - Train loss 1.522370 - Train Accuracy 0.451625 - Valid Loss 1.522371 - Valid Accuracy 0.457668\n",
      "Epoch: 18/150 - Train loss 1.505059 - Train Accuracy 0.458025 - Valid Loss 1.516176 - Valid Accuracy 0.457768\n",
      "Epoch: 19/150 - Train loss 1.486610 - Train Accuracy 0.466275 - Valid Loss 1.495691 - Valid Accuracy 0.475339\n",
      "Epoch: 20/150 - Train loss 1.467454 - Train Accuracy 0.473425 - Valid Loss 1.461791 - Valid Accuracy 0.480132\n",
      "Epoch: 21/150 - Train loss 1.455821 - Train Accuracy 0.475900 - Valid Loss 1.468643 - Valid Accuracy 0.480331\n",
      "Epoch: 22/150 - Train loss 1.434434 - Train Accuracy 0.486275 - Valid Loss 1.448428 - Valid Accuracy 0.481030\n",
      "Epoch: 23/150 - Train loss 1.419890 - Train Accuracy 0.490750 - Valid Loss 1.446246 - Valid Accuracy 0.482428\n",
      "Epoch: 24/150 - Train loss 1.408191 - Train Accuracy 0.497550 - Valid Loss 1.422998 - Valid Accuracy 0.490315\n",
      "Epoch: 25/150 - Train loss 1.392429 - Train Accuracy 0.502575 - Valid Loss 1.486264 - Valid Accuracy 0.477935\n",
      "Epoch: 26/150 - Train loss 1.377771 - Train Accuracy 0.508950 - Valid Loss 1.395067 - Valid Accuracy 0.507788\n",
      "Epoch: 27/150 - Train loss 1.364450 - Train Accuracy 0.511600 - Valid Loss 1.402308 - Valid Accuracy 0.501298\n",
      "Epoch: 28/150 - Train loss 1.346961 - Train Accuracy 0.517600 - Valid Loss 1.361203 - Valid Accuracy 0.515176\n",
      "Epoch: 29/150 - Train loss 1.334098 - Train Accuracy 0.525325 - Valid Loss 1.371301 - Valid Accuracy 0.512181\n",
      "Epoch: 30/150 - Train loss 1.323872 - Train Accuracy 0.525875 - Valid Loss 1.342697 - Valid Accuracy 0.523562\n",
      "Epoch: 31/150 - Train loss 1.298882 - Train Accuracy 0.538825 - Valid Loss 1.318383 - Valid Accuracy 0.540535\n",
      "Epoch: 32/150 - Train loss 1.287235 - Train Accuracy 0.543200 - Valid Loss 1.329444 - Valid Accuracy 0.529054\n",
      "Epoch: 33/150 - Train loss 1.278447 - Train Accuracy 0.544700 - Valid Loss 1.308320 - Valid Accuracy 0.536142\n",
      "Epoch: 34/150 - Train loss 1.259330 - Train Accuracy 0.550300 - Valid Loss 1.288002 - Valid Accuracy 0.548722\n",
      "Epoch: 35/150 - Train loss 1.250369 - Train Accuracy 0.556925 - Valid Loss 1.275590 - Valid Accuracy 0.549521\n",
      "Epoch: 36/150 - Train loss 1.237341 - Train Accuracy 0.561650 - Valid Loss 1.254698 - Valid Accuracy 0.553415\n",
      "Epoch: 37/150 - Train loss 1.226523 - Train Accuracy 0.567550 - Valid Loss 1.248222 - Valid Accuracy 0.558906\n",
      "Epoch: 38/150 - Train loss 1.208977 - Train Accuracy 0.573525 - Valid Loss 1.250886 - Valid Accuracy 0.557508\n",
      "Epoch: 39/150 - Train loss 1.201032 - Train Accuracy 0.575275 - Valid Loss 1.236907 - Valid Accuracy 0.561202\n",
      "Epoch: 40/150 - Train loss 1.184198 - Train Accuracy 0.580300 - Valid Loss 1.251830 - Valid Accuracy 0.568690\n",
      "Epoch: 41/150 - Train loss 1.172848 - Train Accuracy 0.583350 - Valid Loss 1.234342 - Valid Accuracy 0.563099\n",
      "Epoch: 42/150 - Train loss 1.160584 - Train Accuracy 0.589075 - Valid Loss 1.229694 - Valid Accuracy 0.566793\n",
      "Epoch: 43/150 - Train loss 1.145946 - Train Accuracy 0.590700 - Valid Loss 1.220475 - Valid Accuracy 0.568490\n",
      "Epoch: 44/150 - Train loss 1.135443 - Train Accuracy 0.596725 - Valid Loss 1.184907 - Valid Accuracy 0.581170\n",
      "Epoch: 45/150 - Train loss 1.128614 - Train Accuracy 0.599700 - Valid Loss 1.190206 - Valid Accuracy 0.581170\n",
      "Epoch: 46/150 - Train loss 1.106469 - Train Accuracy 0.608275 - Valid Loss 1.163158 - Valid Accuracy 0.590555\n",
      "Epoch: 47/150 - Train loss 1.108225 - Train Accuracy 0.606450 - Valid Loss 1.187435 - Valid Accuracy 0.581170\n",
      "Epoch: 48/150 - Train loss 1.093791 - Train Accuracy 0.611525 - Valid Loss 1.155665 - Valid Accuracy 0.597045\n",
      "Epoch: 49/150 - Train loss 1.085846 - Train Accuracy 0.615900 - Valid Loss 1.143275 - Valid Accuracy 0.596146\n",
      "Epoch: 50/150 - Train loss 1.076800 - Train Accuracy 0.618450 - Valid Loss 1.163915 - Valid Accuracy 0.597843\n",
      "Epoch: 51/150 - Train loss 1.063687 - Train Accuracy 0.623375 - Valid Loss 1.137405 - Valid Accuracy 0.604133\n",
      "Epoch: 52/150 - Train loss 1.053497 - Train Accuracy 0.624800 - Valid Loss 1.146667 - Valid Accuracy 0.599441\n",
      "Epoch: 53/150 - Train loss 1.046010 - Train Accuracy 0.628600 - Valid Loss 1.125075 - Valid Accuracy 0.605631\n",
      "Epoch: 54/150 - Train loss 1.042479 - Train Accuracy 0.632750 - Valid Loss 1.088951 - Valid Accuracy 0.615915\n",
      "Epoch: 55/150 - Train loss 1.029726 - Train Accuracy 0.634775 - Valid Loss 1.113832 - Valid Accuracy 0.607628\n",
      "Epoch: 56/150 - Train loss 1.022358 - Train Accuracy 0.641100 - Valid Loss 1.104656 - Valid Accuracy 0.614517\n",
      "Epoch: 57/150 - Train loss 1.006065 - Train Accuracy 0.643400 - Valid Loss 1.128894 - Valid Accuracy 0.608926\n",
      "Epoch: 58/150 - Train loss 0.998448 - Train Accuracy 0.647650 - Valid Loss 1.089717 - Valid Accuracy 0.628295\n",
      "Epoch: 59/150 - Train loss 0.995534 - Train Accuracy 0.648425 - Valid Loss 1.073549 - Valid Accuracy 0.627296\n",
      "Epoch: 60/150 - Train loss 0.982800 - Train Accuracy 0.653775 - Valid Loss 1.060594 - Valid Accuracy 0.631290\n",
      "Epoch: 61/150 - Train loss 0.977781 - Train Accuracy 0.654250 - Valid Loss 1.068043 - Valid Accuracy 0.628794\n",
      "Epoch: 62/150 - Train loss 0.970275 - Train Accuracy 0.656100 - Valid Loss 1.074591 - Valid Accuracy 0.627196\n",
      "Epoch: 63/150 - Train loss 0.962678 - Train Accuracy 0.660950 - Valid Loss 1.057389 - Valid Accuracy 0.635284\n",
      "Epoch: 64/150 - Train loss 0.956055 - Train Accuracy 0.662750 - Valid Loss 1.064802 - Valid Accuracy 0.627396\n",
      "Epoch: 65/150 - Train loss 0.945266 - Train Accuracy 0.665600 - Valid Loss 1.058082 - Valid Accuracy 0.631689\n",
      "Epoch: 66/150 - Train loss 0.940550 - Train Accuracy 0.668875 - Valid Loss 1.057966 - Valid Accuracy 0.631589\n",
      "Epoch: 67/150 - Train loss 0.932530 - Train Accuracy 0.670025 - Valid Loss 1.060961 - Valid Accuracy 0.630092\n",
      "Epoch: 68/150 - Train loss 0.924234 - Train Accuracy 0.674250 - Valid Loss 1.075037 - Valid Accuracy 0.626498\n",
      "Epoch: 69/150 - Train loss 0.915623 - Train Accuracy 0.676850 - Valid Loss 1.047871 - Valid Accuracy 0.634884\n",
      "Epoch: 70/150 - Train loss 0.901776 - Train Accuracy 0.682100 - Valid Loss 1.040571 - Valid Accuracy 0.646066\n",
      "Epoch: 71/150 - Train loss 0.903865 - Train Accuracy 0.681850 - Valid Loss 1.022774 - Valid Accuracy 0.645268\n",
      "Epoch: 72/150 - Train loss 0.899655 - Train Accuracy 0.679200 - Valid Loss 1.031192 - Valid Accuracy 0.641174\n",
      "Epoch: 73/150 - Train loss 0.892716 - Train Accuracy 0.682825 - Valid Loss 1.023622 - Valid Accuracy 0.653055\n",
      "Epoch: 74/150 - Train loss 0.883936 - Train Accuracy 0.688150 - Valid Loss 0.999376 - Valid Accuracy 0.653554\n",
      "Epoch: 75/150 - Train loss 0.875658 - Train Accuracy 0.691725 - Valid Loss 1.003915 - Valid Accuracy 0.655851\n",
      "Epoch: 76/150 - Train loss 0.872933 - Train Accuracy 0.690750 - Valid Loss 1.011449 - Valid Accuracy 0.653255\n",
      "Epoch: 77/150 - Train loss 0.862476 - Train Accuracy 0.696425 - Valid Loss 1.020151 - Valid Accuracy 0.651458\n",
      "Epoch: 78/150 - Train loss 0.860716 - Train Accuracy 0.695550 - Valid Loss 1.026417 - Valid Accuracy 0.650359\n",
      "Epoch: 79/150 - Train loss 0.856209 - Train Accuracy 0.699900 - Valid Loss 1.022355 - Valid Accuracy 0.644069\n",
      "Epoch: 80/150 - Train loss 0.848611 - Train Accuracy 0.701600 - Valid Loss 1.038553 - Valid Accuracy 0.640375\n",
      "Epoch: 81/150 - Train loss 0.842031 - Train Accuracy 0.702100 - Valid Loss 1.015637 - Valid Accuracy 0.653654\n",
      "Epoch: 82/150 - Train loss 0.837831 - Train Accuracy 0.704925 - Valid Loss 0.984260 - Valid Accuracy 0.661641\n",
      "Epoch: 83/150 - Train loss 0.828663 - Train Accuracy 0.707575 - Valid Loss 0.997258 - Valid Accuracy 0.653454\n",
      "Epoch: 84/150 - Train loss 0.829511 - Train Accuracy 0.710225 - Valid Loss 0.978696 - Valid Accuracy 0.656949\n",
      "Epoch: 85/150 - Train loss 0.823508 - Train Accuracy 0.711700 - Valid Loss 0.987467 - Valid Accuracy 0.658347\n",
      "Epoch: 86/150 - Train loss 0.815308 - Train Accuracy 0.710825 - Valid Loss 0.978865 - Valid Accuracy 0.665236\n",
      "Epoch: 87/150 - Train loss 0.815936 - Train Accuracy 0.712300 - Valid Loss 0.971301 - Valid Accuracy 0.661442\n",
      "Epoch: 88/150 - Train loss 0.807400 - Train Accuracy 0.716975 - Valid Loss 0.964689 - Valid Accuracy 0.672125\n",
      "Epoch: 89/150 - Train loss 0.800955 - Train Accuracy 0.718800 - Valid Loss 0.987332 - Valid Accuracy 0.664936\n",
      "Epoch: 90/150 - Train loss 0.794663 - Train Accuracy 0.718000 - Valid Loss 0.965847 - Valid Accuracy 0.665735\n",
      "Epoch: 91/150 - Train loss 0.789647 - Train Accuracy 0.722750 - Valid Loss 0.983065 - Valid Accuracy 0.665535\n",
      "Epoch: 92/150 - Train loss 0.788991 - Train Accuracy 0.721600 - Valid Loss 0.962090 - Valid Accuracy 0.671526\n",
      "Epoch: 93/150 - Train loss 0.781445 - Train Accuracy 0.724250 - Valid Loss 0.967483 - Valid Accuracy 0.671026\n",
      "Epoch: 94/150 - Train loss 0.775005 - Train Accuracy 0.727525 - Valid Loss 0.967777 - Valid Accuracy 0.669828\n",
      "Epoch: 95/150 - Train loss 0.769813 - Train Accuracy 0.727950 - Valid Loss 0.987017 - Valid Accuracy 0.659145\n",
      "Epoch: 96/150 - Train loss 0.769259 - Train Accuracy 0.729200 - Valid Loss 0.968227 - Valid Accuracy 0.669329\n",
      "Epoch: 97/150 - Train loss 0.762655 - Train Accuracy 0.727525 - Valid Loss 0.969993 - Valid Accuracy 0.671126\n",
      "Epoch: 98/150 - Train loss 0.755513 - Train Accuracy 0.733125 - Valid Loss 0.963390 - Valid Accuracy 0.669329\n",
      "Epoch: 99/150 - Train loss 0.751606 - Train Accuracy 0.735625 - Valid Loss 0.981968 - Valid Accuracy 0.671126\n",
      "Epoch: 100/150 - Train loss 0.748528 - Train Accuracy 0.736725 - Valid Loss 0.970340 - Valid Accuracy 0.668431\n",
      "Epoch: 101/150 - Train loss 0.749378 - Train Accuracy 0.737525 - Valid Loss 0.952211 - Valid Accuracy 0.677616\n",
      "Epoch: 102/150 - Train loss 0.745568 - Train Accuracy 0.737475 - Valid Loss 0.982922 - Valid Accuracy 0.664437\n",
      "Epoch: 103/150 - Train loss 0.737291 - Train Accuracy 0.739575 - Valid Loss 0.962288 - Valid Accuracy 0.672724\n",
      "Epoch: 104/150 - Train loss 0.735427 - Train Accuracy 0.743000 - Valid Loss 0.940248 - Valid Accuracy 0.675220\n",
      "Epoch: 105/150 - Train loss 0.728478 - Train Accuracy 0.741875 - Valid Loss 0.952378 - Valid Accuracy 0.673922\n",
      "Epoch: 106/150 - Train loss 0.715074 - Train Accuracy 0.748525 - Valid Loss 0.965777 - Valid Accuracy 0.675419\n",
      "Epoch: 107/150 - Train loss 0.727617 - Train Accuracy 0.742375 - Valid Loss 0.929859 - Valid Accuracy 0.681210\n",
      "Epoch: 108/150 - Train loss 0.712516 - Train Accuracy 0.748950 - Valid Loss 0.963376 - Valid Accuracy 0.675419\n",
      "Epoch: 109/150 - Train loss 0.714288 - Train Accuracy 0.746350 - Valid Loss 0.946486 - Valid Accuracy 0.680711\n",
      "Epoch: 110/150 - Train loss 0.711476 - Train Accuracy 0.749300 - Valid Loss 0.938897 - Valid Accuracy 0.681709\n",
      "Epoch: 111/150 - Train loss 0.710907 - Train Accuracy 0.748725 - Valid Loss 0.962051 - Valid Accuracy 0.677017\n",
      "Epoch: 112/150 - Train loss 0.706870 - Train Accuracy 0.750325 - Valid Loss 0.951730 - Valid Accuracy 0.677017\n",
      "Epoch: 113/150 - Train loss 0.696508 - Train Accuracy 0.752800 - Valid Loss 0.938583 - Valid Accuracy 0.683007\n",
      "Epoch: 114/150 - Train loss 0.694371 - Train Accuracy 0.757125 - Valid Loss 0.937019 - Valid Accuracy 0.686801\n",
      "Epoch: 115/150 - Train loss 0.689410 - Train Accuracy 0.758475 - Valid Loss 0.950158 - Valid Accuracy 0.677915\n",
      "Epoch: 116/150 - Train loss 0.689993 - Train Accuracy 0.758525 - Valid Loss 0.932662 - Valid Accuracy 0.686901\n",
      "Epoch: 117/150 - Train loss 0.683168 - Train Accuracy 0.759625 - Valid Loss 0.947240 - Valid Accuracy 0.682408\n",
      "Epoch: 118/150 - Train loss 0.677962 - Train Accuracy 0.762200 - Valid Loss 0.946185 - Valid Accuracy 0.685903\n",
      "Epoch: 119/150 - Train loss 0.672409 - Train Accuracy 0.764100 - Valid Loss 0.940625 - Valid Accuracy 0.675819\n",
      "Epoch: 120/150 - Train loss 0.677327 - Train Accuracy 0.762275 - Valid Loss 0.948640 - Valid Accuracy 0.683107\n",
      "Epoch: 121/150 - Train loss 0.664571 - Train Accuracy 0.768350 - Valid Loss 0.930832 - Valid Accuracy 0.688798\n",
      "Epoch: 122/150 - Train loss 0.664236 - Train Accuracy 0.768375 - Valid Loss 0.930770 - Valid Accuracy 0.688498\n",
      "Epoch: 123/150 - Train loss 0.666409 - Train Accuracy 0.765900 - Valid Loss 0.961377 - Valid Accuracy 0.679113\n",
      "Epoch: 124/150 - Train loss 0.662313 - Train Accuracy 0.767225 - Valid Loss 0.950020 - Valid Accuracy 0.679912\n",
      "Epoch: 125/150 - Train loss 0.650020 - Train Accuracy 0.773475 - Valid Loss 0.927014 - Valid Accuracy 0.691593\n",
      "Epoch: 126/150 - Train loss 0.654157 - Train Accuracy 0.771275 - Valid Loss 0.942354 - Valid Accuracy 0.684605\n",
      "Epoch: 127/150 - Train loss 0.649323 - Train Accuracy 0.773400 - Valid Loss 0.944073 - Valid Accuracy 0.686801\n",
      "Epoch: 128/150 - Train loss 0.649139 - Train Accuracy 0.771925 - Valid Loss 0.943398 - Valid Accuracy 0.684904\n",
      "Epoch: 129/150 - Train loss 0.641055 - Train Accuracy 0.773750 - Valid Loss 0.944917 - Valid Accuracy 0.685703\n",
      "Epoch: 130/150 - Train loss 0.644182 - Train Accuracy 0.774025 - Valid Loss 0.935957 - Valid Accuracy 0.690795\n",
      "Epoch: 131/150 - Train loss 0.635189 - Train Accuracy 0.776550 - Valid Loss 0.958231 - Valid Accuracy 0.685503\n",
      "Epoch: 132/150 - Train loss 0.635418 - Train Accuracy 0.776575 - Valid Loss 0.923192 - Valid Accuracy 0.692093\n",
      "Epoch: 133/150 - Train loss 0.634629 - Train Accuracy 0.777550 - Valid Loss 0.917136 - Valid Accuracy 0.694289\n",
      "Epoch: 134/150 - Train loss 0.630738 - Train Accuracy 0.777500 - Valid Loss 0.931170 - Valid Accuracy 0.692492\n",
      "Epoch: 135/150 - Train loss 0.628500 - Train Accuracy 0.776950 - Valid Loss 0.913476 - Valid Accuracy 0.695188\n",
      "Epoch: 136/150 - Train loss 0.622209 - Train Accuracy 0.780075 - Valid Loss 0.937175 - Valid Accuracy 0.688498\n",
      "Epoch: 137/150 - Train loss 0.620233 - Train Accuracy 0.779675 - Valid Loss 0.933644 - Valid Accuracy 0.693091\n",
      "Epoch: 138/150 - Train loss 0.624403 - Train Accuracy 0.780600 - Valid Loss 0.921861 - Valid Accuracy 0.692392\n",
      "Epoch: 139/150 - Train loss 0.615634 - Train Accuracy 0.783350 - Valid Loss 0.928731 - Valid Accuracy 0.693191\n",
      "Epoch: 140/150 - Train loss 0.610836 - Train Accuracy 0.786500 - Valid Loss 0.935725 - Valid Accuracy 0.690595\n",
      "Epoch: 141/150 - Train loss 0.602790 - Train Accuracy 0.788425 - Valid Loss 0.929197 - Valid Accuracy 0.692692\n",
      "Epoch: 142/150 - Train loss 0.604354 - Train Accuracy 0.787850 - Valid Loss 0.914900 - Valid Accuracy 0.697684\n",
      "Epoch: 143/150 - Train loss 0.604966 - Train Accuracy 0.788700 - Valid Loss 0.915235 - Valid Accuracy 0.697684\n",
      "Epoch: 144/150 - Train loss 0.591535 - Train Accuracy 0.791500 - Valid Loss 0.961848 - Valid Accuracy 0.685703\n",
      "Epoch: 145/150 - Train loss 0.596132 - Train Accuracy 0.790100 - Valid Loss 0.916969 - Valid Accuracy 0.694688\n",
      "Epoch: 146/150 - Train loss 0.590234 - Train Accuracy 0.792450 - Valid Loss 0.914228 - Valid Accuracy 0.701577\n",
      "Epoch: 147/150 - Train loss 0.594108 - Train Accuracy 0.788900 - Valid Loss 0.944845 - Valid Accuracy 0.696086\n",
      "Epoch: 148/150 - Train loss 0.583273 - Train Accuracy 0.794425 - Valid Loss 0.939636 - Valid Accuracy 0.699181\n",
      "Epoch: 149/150 - Train loss 0.588019 - Train Accuracy 0.794225 - Valid Loss 0.952121 - Valid Accuracy 0.687999\n",
      "Epoch: 150/150 - Train loss 0.584499 - Train Accuracy 0.795550 - Valid Loss 0.938494 - Valid Accuracy 0.691494\n"
     ]
    }
   ],
   "source": [
    "# Volvemos a entrenar el modelo, ahora con los datos aumentados:\n",
    "aug_TP2_model = TP2()\n",
    "# definimos un optimizador, una función de error y una función de métrica.\n",
    "\n",
    "if torch.cuda.is_available():\n",
    "  aug_TP2_model = aug_TP2_model.to(\"cuda\")\n",
    "\n",
    "lr = 0.01\n",
    "aug_TP2_model_optimizer = torch.optim.SGD(aug_TP2_model.parameters(), lr=lr)\n",
    "aug_TP2_model_loss = torch.nn.CrossEntropyLoss()\n",
    "aug_TP2_model_accuracy = torchmetrics.Accuracy()\n",
    "\n",
    "\n",
    "if torch.cuda.is_available():\n",
    "  aug_TP2_model_accuracy = aug_TP2_model_accuracy.to(\"cuda\")\n",
    "\n",
    "# Epocas de entrenamiento\n",
    "epochs = 150\n",
    "\n",
    "# Defino listas para realizar graficas de los resultados\n",
    "train_loss = []\n",
    "train_acc = []\n",
    "valid_loss = []\n",
    "valid_acc = []\n",
    "\n",
    "## Defino mi loop de entrenamiento\n",
    "\n",
    "for epoch in range(epochs):\n",
    "\n",
    "  epoch_train_loss = 0.0\n",
    "  epoch_train_accuracy = 0.0\n",
    "\n",
    "  for aug_train_data, aug_train_target in aug_train_loader:\n",
    "\n",
    "    if torch.cuda.is_available():\n",
    "      aug_train_data = aug_train_data.to(\"cuda\")\n",
    "      aug_train_target = aug_train_target.to(\"cuda\")\n",
    "\n",
    "    aug_TP2_model_optimizer.zero_grad()\n",
    "    \n",
    "    aug_output = aug_TP2_model(aug_train_data)\n",
    "    \n",
    "    aug_loss = aug_TP2_model_loss(aug_output, aug_train_target)\n",
    "    epoch_train_loss += aug_loss.item()\n",
    "    aug_loss.backward()\n",
    "    \n",
    "    aug_TP2_model_optimizer.step()\n",
    "    accuracy = aug_TP2_model_accuracy(aug_output, aug_train_target)\n",
    "    epoch_train_accuracy += accuracy.item()\n",
    "\n",
    "  # Calculo la media de error y accuracy para la epoca de entrenamiento.\n",
    "  # La longitud de train_loader es igual a la cantidad de batches dentro de una epoca.\n",
    "  epoch_train_loss = epoch_train_loss / len(aug_train_loader)\n",
    "  epoch_train_accuracy = epoch_train_accuracy / len(aug_train_loader)\n",
    "  train_loss.append(epoch_train_loss)\n",
    "  train_acc.append(epoch_train_accuracy)\n",
    "\n",
    "  # Realizo el paso de validación computando error y accuracy, y\n",
    "  # almacenando los valores para imprimirlos y graficarlos\n",
    "  epoch_valid_loss = 0.0\n",
    "  epoch_valid_accuracy = 0.0\n",
    "\n",
    "  for aug_valid_data, aug_valid_target in aug_valid_loader:\n",
    "    if torch.cuda.is_available():\n",
    "      aug_valid_data = aug_valid_data.to(\"cuda\")\n",
    "      aug_valid_target = aug_valid_target.to(\"cuda\")\n",
    "\n",
    "    aug_output = aug_TP2_model(aug_valid_data)\n",
    "    epoch_valid_loss += aug_TP2_model_loss(aug_output, aug_valid_target).item()\n",
    "    epoch_valid_accuracy += aug_TP2_model_accuracy(aug_output, aug_valid_target).item()\n",
    "      \n",
    "  epoch_valid_loss = epoch_valid_loss / len(aug_valid_loader)\n",
    "  epoch_valid_accuracy = epoch_valid_accuracy / len(aug_valid_loader)\n",
    "  valid_loss.append(epoch_valid_loss)\n",
    "  valid_acc.append(epoch_valid_accuracy)\n",
    "\n",
    "  print(\"Epoch: {}/{} - Train loss {:.6f} - Train Accuracy {:.6f} - Valid Loss {:.6f} - Valid Accuracy {:.6f}\".format(\n",
    "      epoch+1, epochs, epoch_train_loss, epoch_train_accuracy, epoch_valid_loss, epoch_valid_accuracy))"
   ]
  },
  {
   "cell_type": "code",
   "execution_count": null,
   "metadata": {
    "colab": {
     "base_uri": "https://localhost:8080/",
     "height": 896
    },
    "id": "vtQI3kEw22J6",
    "outputId": "dd787851-121b-4535-c22f-a2ee19fa38f0"
   },
   "outputs": [
    {
     "data": {
      "text/plain": [
       "<matplotlib.legend.Legend at 0x7fd1165d4510>"
      ]
     },
     "execution_count": 13,
     "metadata": {},
     "output_type": "execute_result"
    },
    {
     "data": {
      "image/png": "[encoded data removed]",
      "text/plain": [
       "<Figure size 1080x1080 with 2 Axes>"
      ]
     },
     "metadata": {
      "needs_background": "light"
     },
     "output_type": "display_data"
    }
   ],
   "source": [
    "fig, axs = plt.subplots(2, 1, figsize=(15,15))\n",
    "\n",
    "axs[0].plot(train_loss[1:]) \n",
    "axs[0].plot(valid_loss[1:]) \n",
    "axs[0].title.set_text('Error de Entrenamiento vs Validación') \n",
    "axs[0].legend(['Train', 'Valid'])  \n",
    "\n",
    "axs[1].plot(train_acc) \n",
    "axs[1].plot(valid_acc) \n",
    "axs[1].title.set_text('Accuracy de Entrenamiento vs Validación') \n",
    "axs[1].legend(['Train', 'Valid'])"
   ]
  },
  {
   "cell_type": "code",
   "execution_count": null,
   "metadata": {
    "colab": {
     "base_uri": "https://localhost:8080/"
    },
    "id": "AGnpMYAb26Tn",
    "outputId": "1fe29eb7-0acf-48da-cf4a-b1403ca919f4"
   },
   "outputs": [
    {
     "name": "stdout",
     "output_type": "stream",
     "text": [
      "El modelo logro un error de 0.917591 y una accuracy de 0.710100\n"
     ]
    }
   ],
   "source": [
    "# Realizo el paso de evaluación computando error y accuracy\n",
    "test_loss = 0.0\n",
    "test_accuracy = 0.0\n",
    "\n",
    "for test_data, test_target in test_loader:\n",
    "  if torch.cuda.is_available():\n",
    "        test_data, test_target = test_data.cuda(), test_target.cuda()\n",
    "  output = aug_TP2_model(test_data)\n",
    "  test_loss += aug_TP2_model_loss(output, test_target).item()\n",
    "  test_accuracy += aug_TP2_model_accuracy(output, test_target).item()\n",
    "\n",
    "test_loss = test_loss / len(test_loader)\n",
    "test_accuracy = test_accuracy / len(test_loader)\n",
    "\n",
    "print(\"El modelo logro un error de {:.6f} y una accuracy de {:.6f}\".format(test_loss, test_accuracy))"
   ]
  }
 ],
 "metadata": {
  "accelerator": "GPU",
  "colab": {
   "collapsed_sections": [],
   "name": "TP_Clase2_VPC2.ipynb",
   "provenance": []
  },
  "kernelspec": {
   "display_name": "Python 3 (ipykernel)",
   "language": "python",
   "name": "python3"
  },
  "language_info": {
   "codemirror_mode": {
    "name": "ipython",
    "version": 3
   },
   "file_extension": ".py",
   "mimetype": "text/x-python",
   "name": "python",
   "nbconvert_exporter": "python",
   "pygments_lexer": "ipython3",
   "version": "3.9.7"
  },
  "widgets": {
   "application/vnd.jupyter.widget-state+json": {
    "208727af92474e3c89af6368083bf4d7": {
     "model_module": "@jupyter-widgets/controls",
     "model_module_version": "1.5.0",
     "model_name": "FloatProgressModel",
     "state": {
      "_dom_classes": [],
      "_model_module": "@jupyter-widgets/controls",
      "_model_module_version": "1.5.0",
      "_model_name": "FloatProgressModel",
      "_view_count": null,
      "_view_module": "@jupyter-widgets/controls",
      "_view_module_version": "1.5.0",
      "_view_name": "ProgressView",
      "bar_style": "success",
      "description": "",
      "description_tooltip": null,
      "layout": "IPY_MODEL_80f140513318404ca596629db7dcaa19",
      "max": 170498071,
      "min": 0,
      "orientation": "horizontal",
      "style": "IPY_MODEL_e562b06f53004454b5d807cc54782aa2",
      "value": 170498071
     }
    },
    "231c47202496476f95ed59b549878e5c": {
     "model_module": "@jupyter-widgets/base",
     "model_module_version": "1.2.0",
     "model_name": "LayoutModel",
     "state": {
      "_model_module": "@jupyter-widgets/base",
      "_model_module_version": "1.2.0",
      "_model_name": "LayoutModel",
      "_view_count": null,
      "_view_module": "@jupyter-widgets/base",
      "_view_module_version": "1.2.0",
      "_view_name": "LayoutView",
      "align_content": null,
      "align_items": null,
      "align_self": null,
      "border": null,
      "bottom": null,
      "display": null,
      "flex": null,
      "flex_flow": null,
      "grid_area": null,
      "grid_auto_columns": null,
      "grid_auto_flow": null,
      "grid_auto_rows": null,
      "grid_column": null,
      "grid_gap": null,
      "grid_row": null,
      "grid_template_areas": null,
      "grid_template_columns": null,
      "grid_template_rows": null,
      "height": null,
      "justify_content": null,
      "justify_items": null,
      "left": null,
      "margin": null,
      "max_height": null,
      "max_width": null,
      "min_height": null,
      "min_width": null,
      "object_fit": null,
      "object_position": null,
      "order": null,
      "overflow": null,
      "overflow_x": null,
      "overflow_y": null,
      "padding": null,
      "right": null,
      "top": null,
      "visibility": null,
      "width": null
     }
    },
    "2c5b94e32b6b477785ac15099410cd66": {
     "model_module": "@jupyter-widgets/controls",
     "model_module_version": "1.5.0",
     "model_name": "DescriptionStyleModel",
     "state": {
      "_model_module": "@jupyter-widgets/controls",
      "_model_module_version": "1.5.0",
      "_model_name": "DescriptionStyleModel",
      "_view_count": null,
      "_view_module": "@jupyter-widgets/base",
      "_view_module_version": "1.2.0",
      "_view_name": "StyleView",
      "description_width": ""
     }
    },
    "3bd23fb3676942c69a0e79a9ceafc53c": {
     "model_module": "@jupyter-widgets/controls",
     "model_module_version": "1.5.0",
     "model_name": "HTMLModel",
     "state": {
      "_dom_classes": [],
      "_model_module": "@jupyter-widgets/controls",
      "_model_module_version": "1.5.0",
      "_model_name": "HTMLModel",
      "_view_count": null,
      "_view_module": "@jupyter-widgets/controls",
      "_view_module_version": "1.5.0",
      "_view_name": "HTMLView",
      "description": "",
      "description_tooltip": null,
      "layout": "IPY_MODEL_b731321091084df48bee62748249c864",
      "placeholder": "​",
      "style": "IPY_MODEL_2c5b94e32b6b477785ac15099410cd66",
      "value": " 170499072/? [00:13&lt;00:00, 12315531.13it/s]"
     }
    },
    "80f140513318404ca596629db7dcaa19": {
     "model_module": "@jupyter-widgets/base",
     "model_module_version": "1.2.0",
     "model_name": "LayoutModel",
     "state": {
      "_model_module": "@jupyter-widgets/base",
      "_model_module_version": "1.2.0",
      "_model_name": "LayoutModel",
      "_view_count": null,
      "_view_module": "@jupyter-widgets/base",
      "_view_module_version": "1.2.0",
      "_view_name": "LayoutView",
      "align_content": null,
      "align_items": null,
      "align_self": null,
      "border": null,
      "bottom": null,
      "display": null,
      "flex": null,
      "flex_flow": null,
      "grid_area": null,
      "grid_auto_columns": null,
      "grid_auto_flow": null,
      "grid_auto_rows": null,
      "grid_column": null,
      "grid_gap": null,
      "grid_row": null,
      "grid_template_areas": null,
      "grid_template_columns": null,
      "grid_template_rows": null,
      "height": null,
      "justify_content": null,
      "justify_items": null,
      "left": null,
      "margin": null,
      "max_height": null,
      "max_width": null,
      "min_height": null,
      "min_width": null,
      "object_fit": null,
      "object_position": null,
      "order": null,
      "overflow": null,
      "overflow_x": null,
      "overflow_y": null,
      "padding": null,
      "right": null,
      "top": null,
      "visibility": null,
      "width": null
     }
    },
    "a2357a18210b439a8bfec56fd59879c1": {
     "model_module": "@jupyter-widgets/controls",
     "model_module_version": "1.5.0",
     "model_name": "HBoxModel",
     "state": {
      "_dom_classes": [],
      "_model_module": "@jupyter-widgets/controls",
      "_model_module_version": "1.5.0",
      "_model_name": "HBoxModel",
      "_view_count": null,
      "_view_module": "@jupyter-widgets/controls",
      "_view_module_version": "1.5.0",
      "_view_name": "HBoxView",
      "box_style": "",
      "children": [
       "IPY_MODEL_a89ef40036194bce9b5dbe9eb0a3695d",
       "IPY_MODEL_208727af92474e3c89af6368083bf4d7",
       "IPY_MODEL_3bd23fb3676942c69a0e79a9ceafc53c"
      ],
      "layout": "IPY_MODEL_a9108fad79a74e33988d0cdfd91f7d2e"
     }
    },
    "a89ef40036194bce9b5dbe9eb0a3695d": {
     "model_module": "@jupyter-widgets/controls",
     "model_module_version": "1.5.0",
     "model_name": "HTMLModel",
     "state": {
      "_dom_classes": [],
      "_model_module": "@jupyter-widgets/controls",
      "_model_module_version": "1.5.0",
      "_model_name": "HTMLModel",
      "_view_count": null,
      "_view_module": "@jupyter-widgets/controls",
      "_view_module_version": "1.5.0",
      "_view_name": "HTMLView",
      "description": "",
      "description_tooltip": null,
      "layout": "IPY_MODEL_231c47202496476f95ed59b549878e5c",
      "placeholder": "​",
      "style": "IPY_MODEL_eef33200f5fd4f879d9d7312b9cf46a3",
      "value": ""
     }
    },
    "a9108fad79a74e33988d0cdfd91f7d2e": {
     "model_module": "@jupyter-widgets/base",
     "model_module_version": "1.2.0",
     "model_name": "LayoutModel",
     "state": {
      "_model_module": "@jupyter-widgets/base",
      "_model_module_version": "1.2.0",
      "_model_name": "LayoutModel",
      "_view_count": null,
      "_view_module": "@jupyter-widgets/base",
      "_view_module_version": "1.2.0",
      "_view_name": "LayoutView",
      "align_content": null,
      "align_items": null,
      "align_self": null,
      "border": null,
      "bottom": null,
      "display": null,
      "flex": null,
      "flex_flow": null,
      "grid_area": null,
      "grid_auto_columns": null,
      "grid_auto_flow": null,
      "grid_auto_rows": null,
      "grid_column": null,
      "grid_gap": null,
      "grid_row": null,
      "grid_template_areas": null,
      "grid_template_columns": null,
      "grid_template_rows": null,
      "height": null,
      "justify_content": null,
      "justify_items": null,
      "left": null,
      "margin": null,
      "max_height": null,
      "max_width": null,
      "min_height": null,
      "min_width": null,
      "object_fit": null,
      "object_position": null,
      "order": null,
      "overflow": null,
      "overflow_x": null,
      "overflow_y": null,
      "padding": null,
      "right": null,
      "top": null,
      "visibility": null,
      "width": null
     }
    },
    "b731321091084df48bee62748249c864": {
     "model_module": "@jupyter-widgets/base",
     "model_module_version": "1.2.0",
     "model_name": "LayoutModel",
     "state": {
      "_model_module": "@jupyter-widgets/base",
      "_model_module_version": "1.2.0",
      "_model_name": "LayoutModel",
      "_view_count": null,
      "_view_module": "@jupyter-widgets/base",
      "_view_module_version": "1.2.0",
      "_view_name": "LayoutView",
      "align_content": null,
      "align_items": null,
      "align_self": null,
      "border": null,
      "bottom": null,
      "display": null,
      "flex": null,
      "flex_flow": null,
      "grid_area": null,
      "grid_auto_columns": null,
      "grid_auto_flow": null,
      "grid_auto_rows": null,
      "grid_column": null,
      "grid_gap": null,
      "grid_row": null,
      "grid_template_areas": null,
      "grid_template_columns": null,
      "grid_template_rows": null,
      "height": null,
      "justify_content": null,
      "justify_items": null,
      "left": null,
      "margin": null,
      "max_height": null,
      "max_width": null,
      "min_height": null,
      "min_width": null,
      "object_fit": null,
      "object_position": null,
      "order": null,
      "overflow": null,
      "overflow_x": null,
      "overflow_y": null,
      "padding": null,
      "right": null,
      "top": null,
      "visibility": null,
      "width": null
     }
    },
    "e562b06f53004454b5d807cc54782aa2": {
     "model_module": "@jupyter-widgets/controls",
     "model_module_version": "1.5.0",
     "model_name": "ProgressStyleModel",
     "state": {
      "_model_module": "@jupyter-widgets/controls",
      "_model_module_version": "1.5.0",
      "_model_name": "ProgressStyleModel",
      "_view_count": null,
      "_view_module": "@jupyter-widgets/base",
      "_view_module_version": "1.2.0",
      "_view_name": "StyleView",
      "bar_color": null,
      "description_width": ""
     }
    },
    "eef33200f5fd4f879d9d7312b9cf46a3": {
     "model_module": "@jupyter-widgets/controls",
     "model_module_version": "1.5.0",
     "model_name": "DescriptionStyleModel",
     "state": {
      "_model_module": "@jupyter-widgets/controls",
      "_model_module_version": "1.5.0",
      "_model_name": "DescriptionStyleModel",
      "_view_count": null,
      "_view_module": "@jupyter-widgets/base",
      "_view_module_version": "1.2.0",
      "_view_name": "StyleView",
      "description_width": ""
     }
    }
   }
  }
 },
 "nbformat": 4,
 "nbformat_minor": 1
}
