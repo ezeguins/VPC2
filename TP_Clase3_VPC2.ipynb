{
  "nbformat": 4,
  "nbformat_minor": 0,
  "metadata": {
    "colab": {
      "name": "Clase_3_Tarea_4co2021.ipynb",
      "provenance": [],
      "collapsed_sections": []
    },
    "kernelspec": {
      "name": "python3",
      "display_name": "Python 3"
    },
    "language_info": {
      "name": "python"
    },
    "accelerator": "GPU"
  },
  "cells": [
    {
      "cell_type": "markdown",
      "source": [
        "## Ejercicio Práctico - Clase 3 VPC2 - 4Co2021\n",
        "\n",
        "1) Realizar transfer learning a partir de alguna de las siguientes redes: vgg11, resnet18, convnext_tiny preentrenadas, y entrenar sobre el dataset CIFAR10 contenido en PyTorch. Que puede concluir al compararlos con los resultados obtenidos en el entrenamiento de la tarea 2?\n",
        "\n",
        "2) Realice el entrenamiento de la misma red seleccionada en el punto 1, sin partir de pesos preentrenados en esta oportunidad y sin congelar capas. A que resultados llega y como los explica?\n"
      ],
      "metadata": {
        "id": "olefOnuXZMIV"
      }
    },
    {
      "cell_type": "code",
      "source": [
        "# Instalamos e importamos librerías de python\n",
        "import numpy as np\n",
        "import matplotlib.pyplot as plt\n",
        "\n",
        "import torch\n",
        "import tensorflow as tf\n",
        "import torch.nn.functional as F\n",
        "import torchvision\n",
        "import torchsummary\n",
        "from torch.utils.tensorboard import SummaryWriter\n",
        "writer = SummaryWriter()\n",
        "!pip install torchmetrics\n",
        "import torchmetrics"
      ],
      "metadata": {
        "colab": {
          "base_uri": "https://localhost:8080/"
        },
        "id": "vQsr16q8_V4u",
        "outputId": "d07e5e7c-c93e-4afd-f82e-3b110e2f5dc6"
      },
      "execution_count": null,
      "outputs": [
        {
          "output_type": "stream",
          "name": "stdout",
          "text": [
            "Requirement already satisfied: torchmetrics in /usr/local/lib/python3.7/dist-packages (0.8.2)\n",
            "Requirement already satisfied: numpy>=1.17.2 in /usr/local/lib/python3.7/dist-packages (from torchmetrics) (1.21.6)\n",
            "Requirement already satisfied: torch>=1.3.1 in /usr/local/lib/python3.7/dist-packages (from torchmetrics) (1.11.0+cu113)\n",
            "Requirement already satisfied: packaging in /usr/local/lib/python3.7/dist-packages (from torchmetrics) (21.3)\n",
            "Requirement already satisfied: pyDeprecate==0.3.* in /usr/local/lib/python3.7/dist-packages (from torchmetrics) (0.3.2)\n",
            "Requirement already satisfied: typing-extensions in /usr/local/lib/python3.7/dist-packages (from torch>=1.3.1->torchmetrics) (4.2.0)\n",
            "Requirement already satisfied: pyparsing!=3.0.5,>=2.0.2 in /usr/local/lib/python3.7/dist-packages (from packaging->torchmetrics) (3.0.9)\n"
          ]
        }
      ]
    },
    {
      "cell_type": "code",
      "source": [
        "# Cargamos el dataset SIFAR10 con las transformaciones definidas en el TP de la clase 2\n",
        "\n",
        "# Aplicamos Data Augmentation\n",
        "data_transforms = torchvision.transforms.Compose([\n",
        "                        \n",
        "                        torchvision.transforms.RandomHorizontalFlip(0.5),\n",
        "                        torchvision.transforms.RandomResizedCrop(size=(32, 32), scale=(0.5, 1.0)),\n",
        "                        torchvision.transforms.ColorJitter(saturation=0.05, hue=0.05),\n",
        "                        torchvision.transforms.ToTensor(),\n",
        "                      ])\n",
        "\n",
        "train_set = torchvision.datasets.CIFAR10(root='./data', train=True, download=True, transform=data_transforms)\n",
        "\n",
        "# Creamos un conjunto de validación a partir del conjunto de entrenamiento\n",
        "valid_set_size = 10000\n",
        "train_set, valid_set = torch.utils.data.random_split(train_set, [len(train_set) - valid_set_size, valid_set_size])\n",
        "print(\"Tamaño del conjunto de entrenamiento: {}\".format(len(train_set)))\n",
        "print(\"Tamaño del conjunto de validación: {}\".format(len(valid_set)))\n",
        "\n",
        "train_loader = torch.utils.data.DataLoader(train_set, batch_size=32, shuffle=True)\n",
        "valid_loader = torch.utils.data.DataLoader(valid_set, batch_size=32, shuffle=True)\n",
        "\n",
        "# Definimos el dataset de test sin las transformaciones\n",
        "data_transforms_test = torchvision.transforms.Compose([torchvision.transforms.ToTensor()])\n",
        "test_set = torchvision.datasets.CIFAR10(root='./data', train=False, download=True, transform=data_transforms_test)\n",
        "\n",
        "# Visualizamos el resultado: \n",
        "fig, rows = plt.subplots(nrows=1, ncols=4, figsize=(32, 32))\n",
        "for id, row in enumerate(rows):\n",
        "    row.imshow(train_set[id][0].permute(1, 2, 0))\n",
        "    row.axis('off')\n",
        "plt.show()\n",
        "\n"
      ],
      "metadata": {
        "colab": {
          "base_uri": "https://localhost:8080/",
          "height": 373
        },
        "id": "RrIuKKqW_c0P",
        "outputId": "4773bd4a-2186-4c18-ad2c-d57bc4c9540d"
      },
      "execution_count": null,
      "outputs": [
        {
          "output_type": "stream",
          "name": "stdout",
          "text": [
            "Files already downloaded and verified\n",
            "Tamaño del conjunto de entrenamiento: 40000\n",
            "Tamaño del conjunto de validación: 10000\n",
            "Files already downloaded and verified\n"
          ]
        },
        {
          "output_type": "display_data",
          "data": {
            "text/plain": [
              "<Figure size 2304x2304 with 4 Axes>"
            ],
            "image/png": "[encoded data removed]"
          },
          "metadata": {
            "needs_background": "light"
          }
        }
      ]
    },
    {
      "cell_type": "code",
      "source": [
        "# Cargamos el modelo base ResNet18 con sus pesos\n",
        "\n",
        "resnet_model = torchvision.models.resnet18(pretrained=True)\n",
        "\n",
        "resnet_model.to(\"cuda\")\n",
        "\n",
        "torchsummary.summary(resnet_model, input_size=(3, 32, 32))\n",
        "resnet_model.modules"
      ],
      "metadata": {
        "colab": {
          "base_uri": "https://localhost:8080/"
        },
        "id": "S9DgwhsPDWej",
        "outputId": "2fac522f-d602-4fbf-8489-2d783840c7ba"
      },
      "execution_count": null,
      "outputs": [
        {
          "output_type": "stream",
          "name": "stdout",
          "text": [
            "----------------------------------------------------------------\n",
            "        Layer (type)               Output Shape         Param #\n",
            "================================================================\n",
            "            Conv2d-1           [-1, 64, 16, 16]           9,408\n",
            "       BatchNorm2d-2           [-1, 64, 16, 16]             128\n",
            "              ReLU-3           [-1, 64, 16, 16]               0\n",
            "         MaxPool2d-4             [-1, 64, 8, 8]               0\n",
            "            Conv2d-5             [-1, 64, 8, 8]          36,864\n",
            "       BatchNorm2d-6             [-1, 64, 8, 8]             128\n",
            "              ReLU-7             [-1, 64, 8, 8]               0\n",
            "            Conv2d-8             [-1, 64, 8, 8]          36,864\n",
            "       BatchNorm2d-9             [-1, 64, 8, 8]             128\n",
            "             ReLU-10             [-1, 64, 8, 8]               0\n",
            "       BasicBlock-11             [-1, 64, 8, 8]               0\n",
            "           Conv2d-12             [-1, 64, 8, 8]          36,864\n",
            "      BatchNorm2d-13             [-1, 64, 8, 8]             128\n",
            "             ReLU-14             [-1, 64, 8, 8]               0\n",
            "           Conv2d-15             [-1, 64, 8, 8]          36,864\n",
            "      BatchNorm2d-16             [-1, 64, 8, 8]             128\n",
            "             ReLU-17             [-1, 64, 8, 8]               0\n",
            "       BasicBlock-18             [-1, 64, 8, 8]               0\n",
            "           Conv2d-19            [-1, 128, 4, 4]          73,728\n",
            "      BatchNorm2d-20            [-1, 128, 4, 4]             256\n",
            "             ReLU-21            [-1, 128, 4, 4]               0\n",
            "           Conv2d-22            [-1, 128, 4, 4]         147,456\n",
            "      BatchNorm2d-23            [-1, 128, 4, 4]             256\n",
            "           Conv2d-24            [-1, 128, 4, 4]           8,192\n",
            "      BatchNorm2d-25            [-1, 128, 4, 4]             256\n",
            "             ReLU-26            [-1, 128, 4, 4]               0\n",
            "       BasicBlock-27            [-1, 128, 4, 4]               0\n",
            "           Conv2d-28            [-1, 128, 4, 4]         147,456\n",
            "      BatchNorm2d-29            [-1, 128, 4, 4]             256\n",
            "             ReLU-30            [-1, 128, 4, 4]               0\n",
            "           Conv2d-31            [-1, 128, 4, 4]         147,456\n",
            "      BatchNorm2d-32            [-1, 128, 4, 4]             256\n",
            "             ReLU-33            [-1, 128, 4, 4]               0\n",
            "       BasicBlock-34            [-1, 128, 4, 4]               0\n",
            "           Conv2d-35            [-1, 256, 2, 2]         294,912\n",
            "      BatchNorm2d-36            [-1, 256, 2, 2]             512\n",
            "             ReLU-37            [-1, 256, 2, 2]               0\n",
            "           Conv2d-38            [-1, 256, 2, 2]         589,824\n",
            "      BatchNorm2d-39            [-1, 256, 2, 2]             512\n",
            "           Conv2d-40            [-1, 256, 2, 2]          32,768\n",
            "      BatchNorm2d-41            [-1, 256, 2, 2]             512\n",
            "             ReLU-42            [-1, 256, 2, 2]               0\n",
            "       BasicBlock-43            [-1, 256, 2, 2]               0\n",
            "           Conv2d-44            [-1, 256, 2, 2]         589,824\n",
            "      BatchNorm2d-45            [-1, 256, 2, 2]             512\n",
            "             ReLU-46            [-1, 256, 2, 2]               0\n",
            "           Conv2d-47            [-1, 256, 2, 2]         589,824\n",
            "      BatchNorm2d-48            [-1, 256, 2, 2]             512\n",
            "             ReLU-49            [-1, 256, 2, 2]               0\n",
            "       BasicBlock-50            [-1, 256, 2, 2]               0\n",
            "           Conv2d-51            [-1, 512, 1, 1]       1,179,648\n",
            "      BatchNorm2d-52            [-1, 512, 1, 1]           1,024\n",
            "             ReLU-53            [-1, 512, 1, 1]               0\n",
            "           Conv2d-54            [-1, 512, 1, 1]       2,359,296\n",
            "      BatchNorm2d-55            [-1, 512, 1, 1]           1,024\n",
            "           Conv2d-56            [-1, 512, 1, 1]         131,072\n",
            "      BatchNorm2d-57            [-1, 512, 1, 1]           1,024\n",
            "             ReLU-58            [-1, 512, 1, 1]               0\n",
            "       BasicBlock-59            [-1, 512, 1, 1]               0\n",
            "           Conv2d-60            [-1, 512, 1, 1]       2,359,296\n",
            "      BatchNorm2d-61            [-1, 512, 1, 1]           1,024\n",
            "             ReLU-62            [-1, 512, 1, 1]               0\n",
            "           Conv2d-63            [-1, 512, 1, 1]       2,359,296\n",
            "      BatchNorm2d-64            [-1, 512, 1, 1]           1,024\n",
            "             ReLU-65            [-1, 512, 1, 1]               0\n",
            "       BasicBlock-66            [-1, 512, 1, 1]               0\n",
            "AdaptiveAvgPool2d-67            [-1, 512, 1, 1]               0\n",
            "           Linear-68                 [-1, 1000]         513,000\n",
            "================================================================\n",
            "Total params: 11,689,512\n",
            "Trainable params: 11,689,512\n",
            "Non-trainable params: 0\n",
            "----------------------------------------------------------------\n",
            "Input size (MB): 0.01\n",
            "Forward/backward pass size (MB): 1.29\n",
            "Params size (MB): 44.59\n",
            "Estimated Total Size (MB): 45.90\n",
            "----------------------------------------------------------------\n"
          ]
        },
        {
          "output_type": "execute_result",
          "data": {
            "text/plain": [
              "<bound method Module.modules of ResNet(\n",
              "  (conv1): Conv2d(3, 64, kernel_size=(7, 7), stride=(2, 2), padding=(3, 3), bias=False)\n",
              "  (bn1): BatchNorm2d(64, eps=1e-05, momentum=0.1, affine=True, track_running_stats=True)\n",
              "  (relu): ReLU(inplace=True)\n",
              "  (maxpool): MaxPool2d(kernel_size=3, stride=2, padding=1, dilation=1, ceil_mode=False)\n",
              "  (layer1): Sequential(\n",
              "    (0): BasicBlock(\n",
              "      (conv1): Conv2d(64, 64, kernel_size=(3, 3), stride=(1, 1), padding=(1, 1), bias=False)\n",
              "      (bn1): BatchNorm2d(64, eps=1e-05, momentum=0.1, affine=True, track_running_stats=True)\n",
              "      (relu): ReLU(inplace=True)\n",
              "      (conv2): Conv2d(64, 64, kernel_size=(3, 3), stride=(1, 1), padding=(1, 1), bias=False)\n",
              "      (bn2): BatchNorm2d(64, eps=1e-05, momentum=0.1, affine=True, track_running_stats=True)\n",
              "    )\n",
              "    (1): BasicBlock(\n",
              "      (conv1): Conv2d(64, 64, kernel_size=(3, 3), stride=(1, 1), padding=(1, 1), bias=False)\n",
              "      (bn1): BatchNorm2d(64, eps=1e-05, momentum=0.1, affine=True, track_running_stats=True)\n",
              "      (relu): ReLU(inplace=True)\n",
              "      (conv2): Conv2d(64, 64, kernel_size=(3, 3), stride=(1, 1), padding=(1, 1), bias=False)\n",
              "      (bn2): BatchNorm2d(64, eps=1e-05, momentum=0.1, affine=True, track_running_stats=True)\n",
              "    )\n",
              "  )\n",
              "  (layer2): Sequential(\n",
              "    (0): BasicBlock(\n",
              "      (conv1): Conv2d(64, 128, kernel_size=(3, 3), stride=(2, 2), padding=(1, 1), bias=False)\n",
              "      (bn1): BatchNorm2d(128, eps=1e-05, momentum=0.1, affine=True, track_running_stats=True)\n",
              "      (relu): ReLU(inplace=True)\n",
              "      (conv2): Conv2d(128, 128, kernel_size=(3, 3), stride=(1, 1), padding=(1, 1), bias=False)\n",
              "      (bn2): BatchNorm2d(128, eps=1e-05, momentum=0.1, affine=True, track_running_stats=True)\n",
              "      (downsample): Sequential(\n",
              "        (0): Conv2d(64, 128, kernel_size=(1, 1), stride=(2, 2), bias=False)\n",
              "        (1): BatchNorm2d(128, eps=1e-05, momentum=0.1, affine=True, track_running_stats=True)\n",
              "      )\n",
              "    )\n",
              "    (1): BasicBlock(\n",
              "      (conv1): Conv2d(128, 128, kernel_size=(3, 3), stride=(1, 1), padding=(1, 1), bias=False)\n",
              "      (bn1): BatchNorm2d(128, eps=1e-05, momentum=0.1, affine=True, track_running_stats=True)\n",
              "      (relu): ReLU(inplace=True)\n",
              "      (conv2): Conv2d(128, 128, kernel_size=(3, 3), stride=(1, 1), padding=(1, 1), bias=False)\n",
              "      (bn2): BatchNorm2d(128, eps=1e-05, momentum=0.1, affine=True, track_running_stats=True)\n",
              "    )\n",
              "  )\n",
              "  (layer3): Sequential(\n",
              "    (0): BasicBlock(\n",
              "      (conv1): Conv2d(128, 256, kernel_size=(3, 3), stride=(2, 2), padding=(1, 1), bias=False)\n",
              "      (bn1): BatchNorm2d(256, eps=1e-05, momentum=0.1, affine=True, track_running_stats=True)\n",
              "      (relu): ReLU(inplace=True)\n",
              "      (conv2): Conv2d(256, 256, kernel_size=(3, 3), stride=(1, 1), padding=(1, 1), bias=False)\n",
              "      (bn2): BatchNorm2d(256, eps=1e-05, momentum=0.1, affine=True, track_running_stats=True)\n",
              "      (downsample): Sequential(\n",
              "        (0): Conv2d(128, 256, kernel_size=(1, 1), stride=(2, 2), bias=False)\n",
              "        (1): BatchNorm2d(256, eps=1e-05, momentum=0.1, affine=True, track_running_stats=True)\n",
              "      )\n",
              "    )\n",
              "    (1): BasicBlock(\n",
              "      (conv1): Conv2d(256, 256, kernel_size=(3, 3), stride=(1, 1), padding=(1, 1), bias=False)\n",
              "      (bn1): BatchNorm2d(256, eps=1e-05, momentum=0.1, affine=True, track_running_stats=True)\n",
              "      (relu): ReLU(inplace=True)\n",
              "      (conv2): Conv2d(256, 256, kernel_size=(3, 3), stride=(1, 1), padding=(1, 1), bias=False)\n",
              "      (bn2): BatchNorm2d(256, eps=1e-05, momentum=0.1, affine=True, track_running_stats=True)\n",
              "    )\n",
              "  )\n",
              "  (layer4): Sequential(\n",
              "    (0): BasicBlock(\n",
              "      (conv1): Conv2d(256, 512, kernel_size=(3, 3), stride=(2, 2), padding=(1, 1), bias=False)\n",
              "      (bn1): BatchNorm2d(512, eps=1e-05, momentum=0.1, affine=True, track_running_stats=True)\n",
              "      (relu): ReLU(inplace=True)\n",
              "      (conv2): Conv2d(512, 512, kernel_size=(3, 3), stride=(1, 1), padding=(1, 1), bias=False)\n",
              "      (bn2): BatchNorm2d(512, eps=1e-05, momentum=0.1, affine=True, track_running_stats=True)\n",
              "      (downsample): Sequential(\n",
              "        (0): Conv2d(256, 512, kernel_size=(1, 1), stride=(2, 2), bias=False)\n",
              "        (1): BatchNorm2d(512, eps=1e-05, momentum=0.1, affine=True, track_running_stats=True)\n",
              "      )\n",
              "    )\n",
              "    (1): BasicBlock(\n",
              "      (conv1): Conv2d(512, 512, kernel_size=(3, 3), stride=(1, 1), padding=(1, 1), bias=False)\n",
              "      (bn1): BatchNorm2d(512, eps=1e-05, momentum=0.1, affine=True, track_running_stats=True)\n",
              "      (relu): ReLU(inplace=True)\n",
              "      (conv2): Conv2d(512, 512, kernel_size=(3, 3), stride=(1, 1), padding=(1, 1), bias=False)\n",
              "      (bn2): BatchNorm2d(512, eps=1e-05, momentum=0.1, affine=True, track_running_stats=True)\n",
              "    )\n",
              "  )\n",
              "  (avgpool): AdaptiveAvgPool2d(output_size=(1, 1))\n",
              "  (fc): Linear(in_features=512, out_features=1000, bias=True)\n",
              ")>"
            ]
          },
          "metadata": {},
          "execution_count": 12
        }
      ]
    },
    {
      "cell_type": "code",
      "source": [
        "# Congelamos las capas del modelo\n",
        "\n",
        "for param in resnet_model.parameters():\n",
        "    param.requires_grad = False"
      ],
      "metadata": {
        "id": "wEtdxMI3En4M"
      },
      "execution_count": null,
      "outputs": []
    },
    {
      "cell_type": "code",
      "source": [
        "# Seleccionamos la última capa, la modificamos y por defecto es una capa entrenable con una salida de 10 (porque el dataset CIFAR10 tiene 10 clases)\n",
        "\n",
        "last_layer_in_features = resnet_model.fc.in_features\n",
        "resnet_model.fc = torch.nn.Linear(in_features=last_layer_in_features, out_features=10)\n",
        "resnet_model.to(\"cuda\")\n",
        "\n",
        "torchsummary.summary(resnet_model, input_size=(3, 32, 32))\n",
        "resnet_model.modules"
      ],
      "metadata": {
        "colab": {
          "base_uri": "https://localhost:8080/"
        },
        "id": "EVYrIx9zFPPr",
        "outputId": "bf9d8360-5886-4c31-be9e-fd5c39d120de"
      },
      "execution_count": null,
      "outputs": [
        {
          "output_type": "stream",
          "name": "stdout",
          "text": [
            "----------------------------------------------------------------\n",
            "        Layer (type)               Output Shape         Param #\n",
            "================================================================\n",
            "            Conv2d-1           [-1, 64, 16, 16]           9,408\n",
            "       BatchNorm2d-2           [-1, 64, 16, 16]             128\n",
            "              ReLU-3           [-1, 64, 16, 16]               0\n",
            "         MaxPool2d-4             [-1, 64, 8, 8]               0\n",
            "            Conv2d-5             [-1, 64, 8, 8]          36,864\n",
            "       BatchNorm2d-6             [-1, 64, 8, 8]             128\n",
            "              ReLU-7             [-1, 64, 8, 8]               0\n",
            "            Conv2d-8             [-1, 64, 8, 8]          36,864\n",
            "       BatchNorm2d-9             [-1, 64, 8, 8]             128\n",
            "             ReLU-10             [-1, 64, 8, 8]               0\n",
            "       BasicBlock-11             [-1, 64, 8, 8]               0\n",
            "           Conv2d-12             [-1, 64, 8, 8]          36,864\n",
            "      BatchNorm2d-13             [-1, 64, 8, 8]             128\n",
            "             ReLU-14             [-1, 64, 8, 8]               0\n",
            "           Conv2d-15             [-1, 64, 8, 8]          36,864\n",
            "      BatchNorm2d-16             [-1, 64, 8, 8]             128\n",
            "             ReLU-17             [-1, 64, 8, 8]               0\n",
            "       BasicBlock-18             [-1, 64, 8, 8]               0\n",
            "           Conv2d-19            [-1, 128, 4, 4]          73,728\n",
            "      BatchNorm2d-20            [-1, 128, 4, 4]             256\n",
            "             ReLU-21            [-1, 128, 4, 4]               0\n",
            "           Conv2d-22            [-1, 128, 4, 4]         147,456\n",
            "      BatchNorm2d-23            [-1, 128, 4, 4]             256\n",
            "           Conv2d-24            [-1, 128, 4, 4]           8,192\n",
            "      BatchNorm2d-25            [-1, 128, 4, 4]             256\n",
            "             ReLU-26            [-1, 128, 4, 4]               0\n",
            "       BasicBlock-27            [-1, 128, 4, 4]               0\n",
            "           Conv2d-28            [-1, 128, 4, 4]         147,456\n",
            "      BatchNorm2d-29            [-1, 128, 4, 4]             256\n",
            "             ReLU-30            [-1, 128, 4, 4]               0\n",
            "           Conv2d-31            [-1, 128, 4, 4]         147,456\n",
            "      BatchNorm2d-32            [-1, 128, 4, 4]             256\n",
            "             ReLU-33            [-1, 128, 4, 4]               0\n",
            "       BasicBlock-34            [-1, 128, 4, 4]               0\n",
            "           Conv2d-35            [-1, 256, 2, 2]         294,912\n",
            "      BatchNorm2d-36            [-1, 256, 2, 2]             512\n",
            "             ReLU-37            [-1, 256, 2, 2]               0\n",
            "           Conv2d-38            [-1, 256, 2, 2]         589,824\n",
            "      BatchNorm2d-39            [-1, 256, 2, 2]             512\n",
            "           Conv2d-40            [-1, 256, 2, 2]          32,768\n",
            "      BatchNorm2d-41            [-1, 256, 2, 2]             512\n",
            "             ReLU-42            [-1, 256, 2, 2]               0\n",
            "       BasicBlock-43            [-1, 256, 2, 2]               0\n",
            "           Conv2d-44            [-1, 256, 2, 2]         589,824\n",
            "      BatchNorm2d-45            [-1, 256, 2, 2]             512\n",
            "             ReLU-46            [-1, 256, 2, 2]               0\n",
            "           Conv2d-47            [-1, 256, 2, 2]         589,824\n",
            "      BatchNorm2d-48            [-1, 256, 2, 2]             512\n",
            "             ReLU-49            [-1, 256, 2, 2]               0\n",
            "       BasicBlock-50            [-1, 256, 2, 2]               0\n",
            "           Conv2d-51            [-1, 512, 1, 1]       1,179,648\n",
            "      BatchNorm2d-52            [-1, 512, 1, 1]           1,024\n",
            "             ReLU-53            [-1, 512, 1, 1]               0\n",
            "           Conv2d-54            [-1, 512, 1, 1]       2,359,296\n",
            "      BatchNorm2d-55            [-1, 512, 1, 1]           1,024\n",
            "           Conv2d-56            [-1, 512, 1, 1]         131,072\n",
            "      BatchNorm2d-57            [-1, 512, 1, 1]           1,024\n",
            "             ReLU-58            [-1, 512, 1, 1]               0\n",
            "       BasicBlock-59            [-1, 512, 1, 1]               0\n",
            "           Conv2d-60            [-1, 512, 1, 1]       2,359,296\n",
            "      BatchNorm2d-61            [-1, 512, 1, 1]           1,024\n",
            "             ReLU-62            [-1, 512, 1, 1]               0\n",
            "           Conv2d-63            [-1, 512, 1, 1]       2,359,296\n",
            "      BatchNorm2d-64            [-1, 512, 1, 1]           1,024\n",
            "             ReLU-65            [-1, 512, 1, 1]               0\n",
            "       BasicBlock-66            [-1, 512, 1, 1]               0\n",
            "AdaptiveAvgPool2d-67            [-1, 512, 1, 1]               0\n",
            "           Linear-68                   [-1, 10]           5,130\n",
            "================================================================\n",
            "Total params: 11,181,642\n",
            "Trainable params: 5,130\n",
            "Non-trainable params: 11,176,512\n",
            "----------------------------------------------------------------\n",
            "Input size (MB): 0.01\n",
            "Forward/backward pass size (MB): 1.29\n",
            "Params size (MB): 42.65\n",
            "Estimated Total Size (MB): 43.95\n",
            "----------------------------------------------------------------\n"
          ]
        },
        {
          "output_type": "execute_result",
          "data": {
            "text/plain": [
              "<bound method Module.modules of ResNet(\n",
              "  (conv1): Conv2d(3, 64, kernel_size=(7, 7), stride=(2, 2), padding=(3, 3), bias=False)\n",
              "  (bn1): BatchNorm2d(64, eps=1e-05, momentum=0.1, affine=True, track_running_stats=True)\n",
              "  (relu): ReLU(inplace=True)\n",
              "  (maxpool): MaxPool2d(kernel_size=3, stride=2, padding=1, dilation=1, ceil_mode=False)\n",
              "  (layer1): Sequential(\n",
              "    (0): BasicBlock(\n",
              "      (conv1): Conv2d(64, 64, kernel_size=(3, 3), stride=(1, 1), padding=(1, 1), bias=False)\n",
              "      (bn1): BatchNorm2d(64, eps=1e-05, momentum=0.1, affine=True, track_running_stats=True)\n",
              "      (relu): ReLU(inplace=True)\n",
              "      (conv2): Conv2d(64, 64, kernel_size=(3, 3), stride=(1, 1), padding=(1, 1), bias=False)\n",
              "      (bn2): BatchNorm2d(64, eps=1e-05, momentum=0.1, affine=True, track_running_stats=True)\n",
              "    )\n",
              "    (1): BasicBlock(\n",
              "      (conv1): Conv2d(64, 64, kernel_size=(3, 3), stride=(1, 1), padding=(1, 1), bias=False)\n",
              "      (bn1): BatchNorm2d(64, eps=1e-05, momentum=0.1, affine=True, track_running_stats=True)\n",
              "      (relu): ReLU(inplace=True)\n",
              "      (conv2): Conv2d(64, 64, kernel_size=(3, 3), stride=(1, 1), padding=(1, 1), bias=False)\n",
              "      (bn2): BatchNorm2d(64, eps=1e-05, momentum=0.1, affine=True, track_running_stats=True)\n",
              "    )\n",
              "  )\n",
              "  (layer2): Sequential(\n",
              "    (0): BasicBlock(\n",
              "      (conv1): Conv2d(64, 128, kernel_size=(3, 3), stride=(2, 2), padding=(1, 1), bias=False)\n",
              "      (bn1): BatchNorm2d(128, eps=1e-05, momentum=0.1, affine=True, track_running_stats=True)\n",
              "      (relu): ReLU(inplace=True)\n",
              "      (conv2): Conv2d(128, 128, kernel_size=(3, 3), stride=(1, 1), padding=(1, 1), bias=False)\n",
              "      (bn2): BatchNorm2d(128, eps=1e-05, momentum=0.1, affine=True, track_running_stats=True)\n",
              "      (downsample): Sequential(\n",
              "        (0): Conv2d(64, 128, kernel_size=(1, 1), stride=(2, 2), bias=False)\n",
              "        (1): BatchNorm2d(128, eps=1e-05, momentum=0.1, affine=True, track_running_stats=True)\n",
              "      )\n",
              "    )\n",
              "    (1): BasicBlock(\n",
              "      (conv1): Conv2d(128, 128, kernel_size=(3, 3), stride=(1, 1), padding=(1, 1), bias=False)\n",
              "      (bn1): BatchNorm2d(128, eps=1e-05, momentum=0.1, affine=True, track_running_stats=True)\n",
              "      (relu): ReLU(inplace=True)\n",
              "      (conv2): Conv2d(128, 128, kernel_size=(3, 3), stride=(1, 1), padding=(1, 1), bias=False)\n",
              "      (bn2): BatchNorm2d(128, eps=1e-05, momentum=0.1, affine=True, track_running_stats=True)\n",
              "    )\n",
              "  )\n",
              "  (layer3): Sequential(\n",
              "    (0): BasicBlock(\n",
              "      (conv1): Conv2d(128, 256, kernel_size=(3, 3), stride=(2, 2), padding=(1, 1), bias=False)\n",
              "      (bn1): BatchNorm2d(256, eps=1e-05, momentum=0.1, affine=True, track_running_stats=True)\n",
              "      (relu): ReLU(inplace=True)\n",
              "      (conv2): Conv2d(256, 256, kernel_size=(3, 3), stride=(1, 1), padding=(1, 1), bias=False)\n",
              "      (bn2): BatchNorm2d(256, eps=1e-05, momentum=0.1, affine=True, track_running_stats=True)\n",
              "      (downsample): Sequential(\n",
              "        (0): Conv2d(128, 256, kernel_size=(1, 1), stride=(2, 2), bias=False)\n",
              "        (1): BatchNorm2d(256, eps=1e-05, momentum=0.1, affine=True, track_running_stats=True)\n",
              "      )\n",
              "    )\n",
              "    (1): BasicBlock(\n",
              "      (conv1): Conv2d(256, 256, kernel_size=(3, 3), stride=(1, 1), padding=(1, 1), bias=False)\n",
              "      (bn1): BatchNorm2d(256, eps=1e-05, momentum=0.1, affine=True, track_running_stats=True)\n",
              "      (relu): ReLU(inplace=True)\n",
              "      (conv2): Conv2d(256, 256, kernel_size=(3, 3), stride=(1, 1), padding=(1, 1), bias=False)\n",
              "      (bn2): BatchNorm2d(256, eps=1e-05, momentum=0.1, affine=True, track_running_stats=True)\n",
              "    )\n",
              "  )\n",
              "  (layer4): Sequential(\n",
              "    (0): BasicBlock(\n",
              "      (conv1): Conv2d(256, 512, kernel_size=(3, 3), stride=(2, 2), padding=(1, 1), bias=False)\n",
              "      (bn1): BatchNorm2d(512, eps=1e-05, momentum=0.1, affine=True, track_running_stats=True)\n",
              "      (relu): ReLU(inplace=True)\n",
              "      (conv2): Conv2d(512, 512, kernel_size=(3, 3), stride=(1, 1), padding=(1, 1), bias=False)\n",
              "      (bn2): BatchNorm2d(512, eps=1e-05, momentum=0.1, affine=True, track_running_stats=True)\n",
              "      (downsample): Sequential(\n",
              "        (0): Conv2d(256, 512, kernel_size=(1, 1), stride=(2, 2), bias=False)\n",
              "        (1): BatchNorm2d(512, eps=1e-05, momentum=0.1, affine=True, track_running_stats=True)\n",
              "      )\n",
              "    )\n",
              "    (1): BasicBlock(\n",
              "      (conv1): Conv2d(512, 512, kernel_size=(3, 3), stride=(1, 1), padding=(1, 1), bias=False)\n",
              "      (bn1): BatchNorm2d(512, eps=1e-05, momentum=0.1, affine=True, track_running_stats=True)\n",
              "      (relu): ReLU(inplace=True)\n",
              "      (conv2): Conv2d(512, 512, kernel_size=(3, 3), stride=(1, 1), padding=(1, 1), bias=False)\n",
              "      (bn2): BatchNorm2d(512, eps=1e-05, momentum=0.1, affine=True, track_running_stats=True)\n",
              "    )\n",
              "  )\n",
              "  (avgpool): AdaptiveAvgPool2d(output_size=(1, 1))\n",
              "  (fc): Linear(in_features=512, out_features=10, bias=True)\n",
              ")>"
            ]
          },
          "metadata": {},
          "execution_count": 14
        }
      ]
    },
    {
      "cell_type": "code",
      "source": [
        "# Confirmamos cuales son los parametros entrenables del modelo\n",
        "for name, param in resnet_model.named_parameters(): \n",
        "  if param.requires_grad: \n",
        "    print (name, param.data)"
      ],
      "metadata": {
        "colab": {
          "base_uri": "https://localhost:8080/"
        },
        "id": "aRiHjFPlQyz3",
        "outputId": "4d6f2444-ac11-4256-fec5-ba5390811519"
      },
      "execution_count": null,
      "outputs": [
        {
          "output_type": "stream",
          "name": "stdout",
          "text": [
            "fc.weight tensor([[ 0.0005, -0.0258,  0.0082,  ..., -0.0260,  0.0127,  0.0102],\n",
            "        [ 0.0205,  0.0238, -0.0251,  ...,  0.0306,  0.0099, -0.0300],\n",
            "        [-0.0005,  0.0106,  0.0143,  ...,  0.0143, -0.0092, -0.0263],\n",
            "        ...,\n",
            "        [ 0.0305, -0.0325,  0.0024,  ..., -0.0401,  0.0112, -0.0025],\n",
            "        [-0.0312, -0.0212, -0.0061,  ..., -0.0106,  0.0231,  0.0330],\n",
            "        [-0.0289, -0.0289,  0.0267,  ...,  0.0094,  0.0276,  0.0230]],\n",
            "       device='cuda:0')\n",
            "fc.bias tensor([-0.0036, -0.0133, -0.0036, -0.0182,  0.0222,  0.0374, -0.0191, -0.0315,\n",
            "         0.0433, -0.0250], device='cuda:0')\n"
          ]
        }
      ]
    },
    {
      "cell_type": "code",
      "source": [
        "# Definimos el learning rate, optimizador y función de error del modelo\n",
        "learning_rate= 0.0002\n",
        "optimizer_ft = torch.optim.Adam(resnet_model.parameters(), lr=learning_rate)\n",
        "criterion = torch.nn.CrossEntropyLoss()"
      ],
      "metadata": {
        "id": "zx-6XuPAGRHF"
      },
      "execution_count": null,
      "outputs": []
    },
    {
      "cell_type": "code",
      "source": [
        "# Definimos la función de entrenamiento del modelo\n",
        "\n",
        "def train(model, criterion, optimizer, train_loader, valid_loader, epochs):\n",
        "\n",
        "    accuracy_metric = torchmetrics.Accuracy()\n",
        "\n",
        "    if torch.cuda.is_available():\n",
        "        model.to(\"cuda\")\n",
        "        accuracy_metric.to(\"cuda\")\n",
        "\n",
        "    train_loss = []\n",
        "    train_acc = []\n",
        "    valid_loss = []\n",
        "    valid_acc = []\n",
        "\n",
        "    for epoch in range(epochs):\n",
        "\n",
        "        # Pongo el modelo en modo entrenamiento\n",
        "        model.train()\n",
        "\n",
        "        epoch_train_loss = 0.0\n",
        "        epoch_train_accuracy = 0.0\n",
        "\n",
        "        for train_data, train_target in train_loader:\n",
        "            \n",
        "            if torch.cuda.is_available():\n",
        "                train_data = train_data.to(\"cuda\")\n",
        "                train_target = train_target.to(\"cuda\")\n",
        "\n",
        "            optimizer.zero_grad()\n",
        "            output = model(train_data)\n",
        "            loss = criterion(output, train_target)\n",
        "            epoch_train_loss += loss.item()\n",
        "            loss.backward()\n",
        "            optimizer.step()\n",
        "\n",
        "            accuracy = accuracy_metric(output, train_target)\n",
        "            epoch_train_accuracy += accuracy.item()\n",
        "\n",
        "        epoch_train_loss = epoch_train_loss / len(train_loader)\n",
        "        epoch_train_accuracy = epoch_train_accuracy / len(train_loader)\n",
        "        train_loss.append(epoch_train_loss)\n",
        "        train_acc.append(epoch_train_accuracy)\n",
        "\n",
        "        # Pongo el modelo en modo testeo\n",
        "        model.eval()\n",
        "\n",
        "        epoch_valid_loss = 0.0\n",
        "        epoch_valid_accuracy = 0.0\n",
        "\n",
        "        for valid_data, valid_target in valid_loader:\n",
        "            if torch.cuda.is_available():\n",
        "                valid_data = valid_data.to(\"cuda\")\n",
        "                valid_target = valid_target.to(\"cuda\")\n",
        "\n",
        "            output = model(valid_data)\n",
        "            epoch_valid_loss += criterion(output, valid_target).item()\n",
        "            epoch_valid_accuracy += accuracy_metric(output, valid_target).item()\n",
        "            \n",
        "        epoch_valid_loss = epoch_valid_loss / len(valid_loader)\n",
        "        epoch_valid_accuracy = epoch_valid_accuracy / len(valid_loader)\n",
        "        valid_loss.append(epoch_valid_loss)\n",
        "        valid_acc.append(epoch_valid_accuracy)\n",
        "\n",
        "        print(\"Epoch: {}/{} - Train loss {:.6f} - Train Accuracy {:.6f} - Valid Loss {:.6f} - Valid Accuracy {:.6f}\".format(\n",
        "        epoch+1, epochs, epoch_train_loss, epoch_train_accuracy, epoch_valid_loss, epoch_valid_accuracy))\n",
        "\n",
        "    history = {}\n",
        "    history[\"train_loss\"] = train_loss\n",
        "    history[\"train_acc\"] = train_acc\n",
        "    history[\"valid_loss\"] = valid_loss\n",
        "    history[\"valid_acc\"] = valid_acc\n",
        "\n",
        "    return model, history"
      ],
      "metadata": {
        "id": "SzHxbBS1JQeZ"
      },
      "execution_count": null,
      "outputs": []
    },
    {
      "cell_type": "code",
      "source": [
        "# Entrenamos el modelo\n",
        "result_model, history = train(resnet_model, criterion, optimizer_ft, train_loader, valid_loader, 20)"
      ],
      "metadata": {
        "colab": {
          "base_uri": "https://localhost:8080/"
        },
        "id": "NOO_kmJUKU3L",
        "outputId": "158596b8-2c01-448e-953a-3c9f33e5383b"
      },
      "execution_count": null,
      "outputs": [
        {
          "output_type": "stream",
          "name": "stdout",
          "text": [
            "Epoch: 1/20 - Train loss 1.949946 - Train Accuracy 0.308400 - Valid Loss 1.765475 - Valid Accuracy 0.391873\n",
            "Epoch: 2/20 - Train loss 1.743827 - Train Accuracy 0.386500 - Valid Loss 1.695526 - Valid Accuracy 0.422224\n",
            "Epoch: 3/20 - Train loss 1.698096 - Train Accuracy 0.403775 - Valid Loss 1.652143 - Valid Accuracy 0.430811\n",
            "Epoch: 4/20 - Train loss 1.677026 - Train Accuracy 0.412350 - Valid Loss 1.658083 - Valid Accuracy 0.429712\n",
            "Epoch: 5/20 - Train loss 1.658954 - Train Accuracy 0.419325 - Valid Loss 1.653042 - Valid Accuracy 0.432408\n",
            "Epoch: 6/20 - Train loss 1.661754 - Train Accuracy 0.417200 - Valid Loss 1.644137 - Valid Accuracy 0.434006\n",
            "Epoch: 7/20 - Train loss 1.656553 - Train Accuracy 0.419700 - Valid Loss 1.636118 - Valid Accuracy 0.440595\n",
            "Epoch: 8/20 - Train loss 1.648925 - Train Accuracy 0.421800 - Valid Loss 1.625950 - Valid Accuracy 0.438299\n",
            "Epoch: 9/20 - Train loss 1.644672 - Train Accuracy 0.420750 - Valid Loss 1.635155 - Valid Accuracy 0.429912\n",
            "Epoch: 10/20 - Train loss 1.638651 - Train Accuracy 0.425750 - Valid Loss 1.605053 - Valid Accuracy 0.444489\n",
            "Epoch: 11/20 - Train loss 1.630780 - Train Accuracy 0.429250 - Valid Loss 1.628720 - Valid Accuracy 0.439297\n",
            "Epoch: 12/20 - Train loss 1.629003 - Train Accuracy 0.429225 - Valid Loss 1.616160 - Valid Accuracy 0.446885\n",
            "Epoch: 13/20 - Train loss 1.632438 - Train Accuracy 0.430125 - Valid Loss 1.610634 - Valid Accuracy 0.451078\n",
            "Epoch: 14/20 - Train loss 1.638387 - Train Accuracy 0.427275 - Valid Loss 1.598908 - Valid Accuracy 0.451577\n",
            "Epoch: 15/20 - Train loss 1.631056 - Train Accuracy 0.431000 - Valid Loss 1.607484 - Valid Accuracy 0.452975\n",
            "Epoch: 16/20 - Train loss 1.626155 - Train Accuracy 0.432075 - Valid Loss 1.605272 - Valid Accuracy 0.447284\n",
            "Epoch: 17/20 - Train loss 1.630117 - Train Accuracy 0.427875 - Valid Loss 1.596912 - Valid Accuracy 0.454972\n",
            "Epoch: 18/20 - Train loss 1.624208 - Train Accuracy 0.433650 - Valid Loss 1.609570 - Valid Accuracy 0.443490\n",
            "Epoch: 19/20 - Train loss 1.625683 - Train Accuracy 0.431475 - Valid Loss 1.593286 - Valid Accuracy 0.449181\n",
            "Epoch: 20/20 - Train loss 1.624993 - Train Accuracy 0.429100 - Valid Loss 1.599188 - Valid Accuracy 0.445587\n"
          ]
        }
      ]
    },
    {
      "cell_type": "code",
      "source": [
        "plt.plot(history[\"train_loss\"])\n",
        "plt.plot(history[\"valid_loss\"])\n",
        "plt.title(\"Error de entrenamiento vs validación\")\n",
        "plt.legend(['Train', 'Valid'])\n",
        "plt.show()"
      ],
      "metadata": {
        "colab": {
          "base_uri": "https://localhost:8080/",
          "height": 281
        },
        "id": "UVw8Q0UlKtVs",
        "outputId": "20cc0ea7-8155-407e-d8bb-8a6a0acf5ef0"
      },
      "execution_count": null,
      "outputs": [
        {
          "output_type": "display_data",
          "data": {
            "text/plain": [
              "<Figure size 432x288 with 1 Axes>"
            ],
            "image/png": "[encoded data removed]"
          },
          "metadata": {
            "needs_background": "light"
          }
        }
      ]
    },
    {
      "cell_type": "code",
      "source": [
        "# Cargamos el modelo base ResNet18 sin pesos\n",
        "\n",
        "resnet_scratch = torchvision.models.resnet18(pretrained=False)\n",
        "resnet_scratch.to(\"cuda\")\n",
        "\n",
        "# Seleccionamos la última capa, la modificamos y por defecto es una capa entrenable con una salida de 10 (porque el dataset CIFAR10 tiene 10 clases)\n",
        "\n",
        "last_layer_in_features = resnet_scratch.fc.in_features\n",
        "resnet_scratch.fc = torch.nn.Linear(in_features=last_layer_in_features, out_features=10)\n",
        "\n",
        "# Definimos el learning rate, optimizador y función de error del modelo\n",
        "learning_rate= 0.0002\n",
        "optimizer_ft = torch.optim.Adam(resnet_scratch.parameters(), lr=learning_rate)\n",
        "criterion = torch.nn.CrossEntropyLoss()\n",
        "\n",
        "# Entrenamos el modelo desde cero, sin parametros pre-entrenados\n",
        "\n",
        "result_model2, history2 = train(resnet_scratch, criterion, optimizer_ft, train_loader, valid_loader, 20)"
      ],
      "metadata": {
        "colab": {
          "base_uri": "https://localhost:8080/"
        },
        "id": "2TQnNr-fLtU2",
        "outputId": "142d7b62-f047-480e-9302-a4acdf67ceb2"
      },
      "execution_count": null,
      "outputs": [
        {
          "output_type": "stream",
          "name": "stdout",
          "text": [
            "Epoch: 1/20 - Train loss 1.673363 - Train Accuracy 0.388975 - Valid Loss 1.461792 - Valid Accuracy 0.472344\n",
            "Epoch: 2/20 - Train loss 1.392431 - Train Accuracy 0.499175 - Valid Loss 1.375027 - Valid Accuracy 0.508886\n",
            "Epoch: 3/20 - Train loss 1.241890 - Train Accuracy 0.560550 - Valid Loss 1.240387 - Valid Accuracy 0.557608\n",
            "Epoch: 4/20 - Train loss 1.147553 - Train Accuracy 0.593775 - Valid Loss 1.239421 - Valid Accuracy 0.570288\n",
            "Epoch: 5/20 - Train loss 1.071277 - Train Accuracy 0.623975 - Valid Loss 1.483286 - Valid Accuracy 0.509185\n",
            "Epoch: 6/20 - Train loss 1.023186 - Train Accuracy 0.641375 - Valid Loss 1.026379 - Valid Accuracy 0.634884\n",
            "Epoch: 7/20 - Train loss 0.964604 - Train Accuracy 0.662475 - Valid Loss 1.090772 - Valid Accuracy 0.619908\n",
            "Epoch: 8/20 - Train loss 0.922438 - Train Accuracy 0.678850 - Valid Loss 1.050258 - Valid Accuracy 0.631190\n",
            "Epoch: 9/20 - Train loss 0.883643 - Train Accuracy 0.692325 - Valid Loss 0.968560 - Valid Accuracy 0.660942\n",
            "Epoch: 10/20 - Train loss 0.844906 - Train Accuracy 0.705900 - Valid Loss 0.914532 - Valid Accuracy 0.678315\n",
            "Epoch: 11/20 - Train loss 0.815489 - Train Accuracy 0.715750 - Valid Loss 1.160236 - Valid Accuracy 0.617113\n",
            "Epoch: 12/20 - Train loss 0.790112 - Train Accuracy 0.724750 - Valid Loss 0.981213 - Valid Accuracy 0.665735\n",
            "Epoch: 13/20 - Train loss 0.767609 - Train Accuracy 0.732625 - Valid Loss 0.813822 - Valid Accuracy 0.718450\n",
            "Epoch: 14/20 - Train loss 0.740686 - Train Accuracy 0.743775 - Valid Loss 0.938915 - Valid Accuracy 0.680112\n",
            "Epoch: 15/20 - Train loss 0.718231 - Train Accuracy 0.749500 - Valid Loss 0.828931 - Valid Accuracy 0.715655\n",
            "Epoch: 16/20 - Train loss 0.702300 - Train Accuracy 0.755575 - Valid Loss 0.805355 - Valid Accuracy 0.722544\n",
            "Epoch: 17/20 - Train loss 0.684239 - Train Accuracy 0.762650 - Valid Loss 0.816686 - Valid Accuracy 0.716853\n",
            "Epoch: 18/20 - Train loss 0.670230 - Train Accuracy 0.766000 - Valid Loss 0.767443 - Valid Accuracy 0.738518\n",
            "Epoch: 19/20 - Train loss 0.642739 - Train Accuracy 0.776350 - Valid Loss 0.786670 - Valid Accuracy 0.729034\n",
            "Epoch: 20/20 - Train loss 0.634530 - Train Accuracy 0.778600 - Valid Loss 0.818170 - Valid Accuracy 0.718151\n"
          ]
        }
      ]
    },
    {
      "cell_type": "code",
      "source": [
        "plt.plot(history2[\"train_loss\"])\n",
        "plt.plot(history2[\"valid_loss\"])\n",
        "plt.title(\"Error de entrenamiento vs validación\")\n",
        "plt.legend(['Train', 'Valid'])\n",
        "plt.show()"
      ],
      "metadata": {
        "colab": {
          "base_uri": "https://localhost:8080/",
          "height": 281
        },
        "id": "oylNBSWewwm0",
        "outputId": "89b040f5-0731-4291-f943-96758d824657"
      },
      "execution_count": null,
      "outputs": [
        {
          "output_type": "display_data",
          "data": {
            "text/plain": [
              "<Figure size 432x288 with 1 Axes>"
            ],
            "image/png": "[encoded data removed]"
          },
          "metadata": {
            "needs_background": "light"
          }
        }
      ]
    },
    {
      "cell_type": "code",
      "source": [
        ""
      ],
      "metadata": {
        "id": "xPZejG4VDRW6"
      },
      "execution_count": null,
      "outputs": []
    }
  ]
}