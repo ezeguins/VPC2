{
 "cells": [
  {
   "cell_type": "markdown",
   "id": "4a8c8554",
   "metadata": {},
   "source": [
    "Con el código utilizado en clase, implementar una clase de Python similar a esta (https://pytorch.org/docs/stable/generated/torch.nn.Conv2d.html#torch.nn.Conv2d ). \n",
    "Se le deben pasar como argumentos:\n",
    "\n",
    "Cantidad de filtros\n",
    "\n",
    "Tamaño de los filtros\n",
    "\n",
    "Stride\n",
    "\n",
    "Tipo de padding (“valid” o “same”)\n",
    "\n",
    "Debe tener un método “forward”, al cual se le pasa la matriz de entrada y devuelve la salida.\n",
    "\n",
    "Y un método “backward”, al cual se le pasa una matriz con ∂L/∂O y devuelve dos matrices, una con ∂L/∂F y otra con ∂L/∂X.\n",
    "\n",
    "(Implementación de capas en Colab: https://colab.research.google.com/drive/1nC98elTULMamrjJt_2VKIWG1NpJB7YqZ)\n"
   ]
  },
  {
   "cell_type": "code",
   "execution_count": 1,
   "id": "7922defa",
   "metadata": {},
   "outputs": [],
   "source": [
    "import numpy as np"
   ]
  },
  {
   "cell_type": "code",
   "execution_count": 2,
   "id": "79da76c7",
   "metadata": {},
   "outputs": [],
   "source": [
    "# Definimos la función para realizar la convolución dentro de nuestra clase. Se convoluciona la matriz de numpy X con el filtro W\n",
    "# que tiene el bias \"bias\"\n",
    "# También definimos la función que implementa el padding con ceros\n",
    "\n",
    "def convolve(X, W, bias):\n",
    "  convol = np.sum(X * W) + float(bias)\n",
    "  return convol\n",
    "\n",
    "\n",
    "def zero_padding(X, pad):\n",
    "    padded = np.pad(X, (pad, pad), mode='constant', constant_values = (0,0))\n",
    "    return padded\n",
    "\n"
   ]
  },
  {
   "cell_type": "code",
   "execution_count": 91,
   "id": "8b761efe",
   "metadata": {},
   "outputs": [],
   "source": [
    "#La matriz de entrada debe ser de dos dimensiones. El filtro debe ser una matriz cuadrada.\n",
    "class conv2():\n",
    "    def __init__(self,kernel_nr,kernel_size , Stride, Padding ):\n",
    "        self.kernel_nr = kernel_nr\n",
    "        self.kernel_size = kernel_size\n",
    "        self.Stride = Stride\n",
    "        self.Padding = Padding\n",
    "        \n",
    "    # Definimos el método forward para calcular la salida de los filtros. Utilizamos un solo valor de bias para todos los filtros\n",
    "    def forward(self, inp, filt, bias):\n",
    "        # dimensiones de la entrada:\n",
    "        (n_H, n_W) = inp.shape  \n",
    "        # dimensiones del filtro (dimensiones: numero de filtros, filter_size, filter zise, cuadrada):\n",
    "        (n_c, filter_size, filter_size) = filt.shape\n",
    "        print(n_c)\n",
    "        if n_c != self.kernel_nr:\n",
    "            print('No coincide el número de filtros: {} con el declarado en la instancia: {}'. format(n_c, self.kernel_nr))\n",
    "            return\n",
    "        # Redefinimos el padding\n",
    "        if self.Padding == 'VALID':\n",
    "            padd = 0\n",
    "        elif self.Padding == 'SAME':\n",
    "            # Solamente tomamos una dimensión porque en este caso suponemos que la matriz de entrada es cuadrada\n",
    "            #padd = int((n_H*(self.Stride-1) + self.Stride + filter_size)/2)\n",
    "            padd = int(((self.Stride-1)*n_H-self.Stride+filter_size)/2)\n",
    "        else:\n",
    "            padd = self.Padding\n",
    "        # dimensiones de salida:\n",
    "        s_H = int((n_H + 2*padd - filter_size)/self.Stride + 1)\n",
    "        s_W = int((n_W + 2*padd - filter_size)/self.Stride + 1)\n",
    "        # Inicialiamos la salida con ceros\n",
    "        Z = np.zeros([n_c,s_H, s_W])\n",
    "        print('tamaño de Z:',Z.shape)\n",
    "\n",
    "        # Realizamos el Padding\n",
    "\n",
    "        layer_input_padded = zero_padding(inp, padd)\n",
    "        print('tamaño de la matriz de entrada con padding: ', layer_input_padded.shape)\n",
    "        \n",
    "        # Iteramos sobre el eje vertical del volumen de salida\n",
    "        for h in range(s_H):\n",
    "            y_start = self.Stride * h\n",
    "            y_end = y_start + filter_size\n",
    "\n",
    "            # Iteramos sobre el eje horizontal del volumen de salida\n",
    "            for w in range(s_W):\n",
    "                x_start = self.Stride * w\n",
    "                x_end = x_start + filter_size\n",
    "\n",
    "                # Extraigo la ventana para calcular la convolucion, del volumen de entrada con padding\n",
    "                slice_from_input_padded = layer_input_padded[y_start:y_end, x_start:x_end]\n",
    "                \n",
    "                # Itero sobre la cantidad de canales del volumen de salida\n",
    "                for c in range(n_c):\n",
    "                    filt_ = filt[c, :, :]     \n",
    "                    # Computamos la operación de convolución para esta ventana\n",
    "                    #print(slice_from_input_padded)\n",
    "                    #print(slice_from_input_padded.shape)\n",
    "                    Z[c,h,w]= np.float32(convolve(slice_from_input_padded, filt_, bias))        \n",
    "  \n",
    "        return Z\n",
    "\n",
    "    # Definimos el método backward. Las dimensiones de dLdO deben ser las mismas que las de los filtros.\n",
    "    def backw(self, inp, filt, dLdO):\n",
    "        (n_H, n_W) = inp.shape  \n",
    "        # dimensiones del filtro (dimensiones: numero de filtros, filter_size, filter zise, cuadrada):\n",
    "        (n_c, filter_size, filter_size) = filt.shape\n",
    "\n",
    "        # Redefinimos el padding\n",
    "        if self.Padding == 'VALID':\n",
    "            padd = 0\n",
    "        elif self.Padding == 'SAME':\n",
    "            # Solamente tomamos una dimensión porque en este caso suponemos que la matriz de entrada es cuadrada\n",
    "            #padd = int((n_H*(self.Stride-1) + self.Stride + filter_size)/2)\n",
    "            padd = int(((self.Stride-1)*n_H-self.Stride+filter_size)/2)\n",
    "        else:\n",
    "            padd = self.Padding\n",
    "        # dimensiones de salida:\n",
    "        s_H = int((n_H + 2*padd - filter_size)/self.Stride + 1)\n",
    "        s_W = int((n_W + 2*padd - filter_size)/self.Stride + 1)\n",
    "        # Inicialiamos la salida con ceros\n",
    "        dLdF = np.zeros([n_c,s_H, s_W])\n",
    "        \n",
    "        layer_input_padded = zero_padding(inp, padd)\n",
    "        \n",
    "        for h in range(s_H):\n",
    "            y_start = self.Stride * h\n",
    "            y_end = y_start + filter_size\n",
    "            for w in range(s_W):\n",
    "                x_start = self.Stride * w\n",
    "                x_end = x_start + filter_size\n",
    "                \n",
    "                # Extraigo la ventana para calcular la convolucion, del volumen de entrada con padding\n",
    "                sfip = layer_input_padded[y_start:y_end, x_start:x_end]\n",
    "                \n",
    "                for c in range(n_c):\n",
    "                    dLdO_ = dLdO[c, :, :]     \n",
    "                    # Computamos la operación de convolución para esta ventana\n",
    "                    #print(slice_from_input_padded)\n",
    "                    #print(slice_from_input_padded.shape)\n",
    "                    dLdF[c,h,w]= np.float32(convolve(sfip, dLdO, 0)) \n",
    "        \n",
    "        # Para calcular dLdX necesitamos rotar 180 grados la matriz del filtro y convolucionar con las matrices dLdO\n",
    "        dLdX = np.zeros([n_c,s_H, s_W])\n",
    "        for c in range(n_c):\n",
    "            filt_ = filt[c, :, :]\n",
    "            filt_ = np.rot90(filt_, k=2, axes=(0, 1))\n",
    "            dLdX[c,:,:]= np.float32(convolve(filt_, dLdO, 0)) \n",
    "            \n",
    "        return dLdX, dLdF\n",
    "        \n",
    "        \n",
    "    "
   ]
  },
  {
   "cell_type": "code",
   "execution_count": 92,
   "id": "e52a1b53",
   "metadata": {},
   "outputs": [],
   "source": [
    "prueba4 = np.array([[1,1,1,1,1],[1,1,1,1,1],[1,1,1,1,1],[1,1,1,1,1],[1,1,1,1,1]])\n",
    "prueba3 = np.array([[1,1,1],[1,1,1],[1,1,1]])\n",
    "\n"
   ]
  },
  {
   "cell_type": "code",
   "execution_count": 93,
   "id": "9da96a31",
   "metadata": {},
   "outputs": [],
   "source": [
    "m = conv2(kernel_nr=2,kernel_size=2, Stride = 1, Padding = 0)\n",
    "filt2= np.array([[[2,2,2],[2,2,2],[2,2,2]],[[4,4,4],[4,4,4],[4,4,4]]])\n",
    "filt3= np.array([[2,2,2],[2,2,2],[2,2,2]])\n",
    "filt2.shape\n",
    "dLdO= np.array([[[.3,.2,.2],[.3,.5,.6],[.8,1,2]],[[4,.4,.7],[1,2,3],[0,2,.4]]])"
   ]
  },
  {
   "cell_type": "code",
   "execution_count": 94,
   "id": "4fadce64",
   "metadata": {},
   "outputs": [
    {
     "name": "stdout",
     "output_type": "stream",
     "text": [
      "2\n",
      "tamaño de Z: (2, 3, 3)\n",
      "tamaño de la matriz de entrada con padding:  (5, 5)\n"
     ]
    }
   ],
   "source": [
    "z = m.forward(prueba4, filt2,1)"
   ]
  },
  {
   "cell_type": "code",
   "execution_count": 95,
   "id": "33f48275",
   "metadata": {},
   "outputs": [],
   "source": [
    "dLdX, dLdF = m.backw(prueba4, filt2, dLdO)"
   ]
  },
  {
   "cell_type": "code",
   "execution_count": 96,
   "id": "4650122c",
   "metadata": {},
   "outputs": [
    {
     "data": {
      "text/plain": [
       "array([[[19.39999962, 19.39999962, 19.39999962],\n",
       "        [19.39999962, 19.39999962, 19.39999962],\n",
       "        [19.39999962, 19.39999962, 19.39999962]],\n",
       "\n",
       "       [[19.39999962, 19.39999962, 19.39999962],\n",
       "        [19.39999962, 19.39999962, 19.39999962],\n",
       "        [19.39999962, 19.39999962, 19.39999962]]])"
      ]
     },
     "execution_count": 96,
     "metadata": {},
     "output_type": "execute_result"
    }
   ],
   "source": [
    "dLdF"
   ]
  },
  {
   "cell_type": "code",
   "execution_count": 97,
   "id": "652e4e10",
   "metadata": {},
   "outputs": [
    {
     "data": {
      "text/plain": [
       "array([[[38.79999924, 38.79999924, 38.79999924],\n",
       "        [38.79999924, 38.79999924, 38.79999924],\n",
       "        [38.79999924, 38.79999924, 38.79999924]],\n",
       "\n",
       "       [[77.59999847, 77.59999847, 77.59999847],\n",
       "        [77.59999847, 77.59999847, 77.59999847],\n",
       "        [77.59999847, 77.59999847, 77.59999847]]])"
      ]
     },
     "execution_count": 97,
     "metadata": {},
     "output_type": "execute_result"
    }
   ],
   "source": [
    "dLdX"
   ]
  },
  {
   "cell_type": "code",
   "execution_count": null,
   "id": "adf83d9c",
   "metadata": {},
   "outputs": [],
   "source": []
  }
 ],
 "metadata": {
  "kernelspec": {
   "display_name": "vision1",
   "language": "python",
   "name": "vision1"
  },
  "language_info": {
   "codemirror_mode": {
    "name": "ipython",
    "version": 3
   },
   "file_extension": ".py",
   "mimetype": "text/x-python",
   "name": "python",
   "nbconvert_exporter": "python",
   "pygments_lexer": "ipython3",
   "version": "3.9.7"
  }
 },
 "nbformat": 4,
 "nbformat_minor": 5
}
